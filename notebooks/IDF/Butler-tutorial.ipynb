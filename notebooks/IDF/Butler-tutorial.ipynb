{
 "cells": [
  {
   "cell_type": "code",
   "execution_count": 1,
   "id": "da457d78-0a35-46e7-b107-66eb57833d6e",
   "metadata": {},
   "outputs": [],
   "source": [
    "import re \n",
    "import lsst\n",
    "from collections import defaultdict\n",
    "from lsst.daf.butler import Butler"
   ]
  },
  {
   "cell_type": "code",
   "execution_count": 2,
   "id": "718b907e-1ef0-45d5-87c7-c9d7a49b4038",
   "metadata": {},
   "outputs": [
    {
     "data": {
      "text/html": [
       "<pre style=\"margin: 0.1em;\n",
       "padding-left: 0.25em;\n",
       "border-left-style: solid;\n",
       "font-family: var(--jp-code-font-family);\n",
       "font-size: var(--jp-code-font-size);\n",
       "line-height: var(--jp-code-line-height);\n",
       "\"><span style=\"color: var(--jp-warn-color2)\">botocore.credentials</span> <span style=\"color: var(--jp-info-color0)\">INFO</span>: Found credentials in shared credentials file: /home/leannep/.lsst/aws-credentials.ini</pre>"
      ],
      "text/plain": [
       "<IPython.core.display.HTML object>"
      ]
     },
     "metadata": {},
     "output_type": "display_data"
    },
    {
     "name": "stderr",
     "output_type": "stream",
     "text": [
      "\n",
      "WARNING: version mismatch between CFITSIO header (v4.000999999999999) and linked library (v4.01).\n",
      "\n",
      "\n",
      "WARNING: version mismatch between CFITSIO header (v4.000999999999999) and linked library (v4.01).\n",
      "\n",
      "\n",
      "WARNING: version mismatch between CFITSIO header (v4.000999999999999) and linked library (v4.01).\n",
      "\n"
     ]
    }
   ],
   "source": [
    "config = 'dp02'\n",
    "collection = '2.2i/runs/DP0.2'\n",
    "butler = Butler(config, collections=collection)\n",
    "registry = butler.registry"
   ]
  },
  {
   "cell_type": "code",
   "execution_count": 3,
   "id": "636ff2d1-84ae-49d0-889e-9547e82d3551",
   "metadata": {},
   "outputs": [
    {
     "data": {
      "text/plain": [
       "False"
      ]
     },
     "execution_count": 3,
     "metadata": {},
     "output_type": "execute_result"
    }
   ],
   "source": [
    "registry.isWriteable()"
   ]
  },
  {
   "cell_type": "code",
   "execution_count": 4,
   "id": "5ea7126e-06e2-4531-9f09-76acbb21e801",
   "metadata": {},
   "outputs": [],
   "source": [
    "# Retrieve a calexp\n",
    "dataId = {'visit': 192350, 'detector': 175, 'band': 'i'}\n",
    "datasetType = 'calexp'\n",
    "calexp = butler.get(datasetType, **dataId)\n",
    "assert calexp is not None \n",
    "assert type(calexp) == lsst.afw.image.exposure.ExposureF\n",
    "\n",
    "# Retrieve a coadd\n",
    "dataId = {'tract': 4431, 'patch': 17, 'band': 'i'}\n",
    "datasetType = 'deepCoadd'\n",
    "coadd = butler.get(datasetType, **dataId)\n",
    "assert coadd is not None \n",
    "assert type(coadd) == lsst.afw.image.exposure.ExposureF"
   ]
  },
  {
   "cell_type": "code",
   "execution_count": 5,
   "id": "6b29adad-ad0b-4a5e-b081-6a1ae8752d87",
   "metadata": {},
   "outputs": [],
   "source": [
    "# for c in registry.queryCollections():\n",
    "#     print(c)"
   ]
  },
  {
   "cell_type": "code",
   "execution_count": 6,
   "id": "f5e82592-e064-48e4-b0d4-1015834a2443",
   "metadata": {},
   "outputs": [],
   "source": [
    "data_type_pattern = \"calexp\"\n",
    "pattern = re.compile(data_type_pattern)\n",
    "dataset_refs =registry.queryDatasets(pattern)"
   ]
  },
  {
   "cell_type": "code",
   "execution_count": 7,
   "id": "d5692118-e3bc-4a94-9f21-4e05691cfbc3",
   "metadata": {},
   "outputs": [],
   "source": [
    "# dataset_refs.count(exact=False)"
   ]
  },
  {
   "cell_type": "code",
   "execution_count": 8,
   "id": "90ff3c97-fc56-409c-8b2b-69fcdd9368e2",
   "metadata": {},
   "outputs": [
    {
     "data": {
      "text/plain": [
       "'ExposureF'"
      ]
     },
     "execution_count": 8,
     "metadata": {},
     "output_type": "execute_result"
    }
   ],
   "source": [
    "sc = registry.getDatasetType(\"calexp\").storageClass.name\n",
    "sc"
   ]
  },
  {
   "cell_type": "code",
   "execution_count": 12,
   "id": "9bcef217-2615-486b-97ea-59f5d8beb419",
   "metadata": {},
   "outputs": [],
   "source": [
    "dataset_type_pattern = re.compile(\"^.*(calexp|coadd|catalog).*$\")"
   ]
  },
  {
   "cell_type": "code",
   "execution_count": 13,
   "id": "a318379a-a8e3-4053-a3d2-a90e02fb1802",
   "metadata": {},
   "outputs": [],
   "source": [
    "refs = registry.queryDatasets(dataset_type_pattern, collections=collection)"
   ]
  },
  {
   "cell_type": "code",
   "execution_count": 15,
   "id": "21fc4674-04d2-4b27-992d-2c76853ad61d",
   "metadata": {},
   "outputs": [],
   "source": [
    "# for ref in registry.queryDatasets(dataset_type_pattern):\n",
    "#     print(ref.datasetType.name)"
   ]
  },
  {
   "cell_type": "code",
   "execution_count": 18,
   "id": "7a4901a7-1708-49c4-b1f6-6ab0d0b96885",
   "metadata": {},
   "outputs": [],
   "source": [
    "dataset_type_pattern = re.compile(\"^.*(deepCoadd_calexp).*$\")"
   ]
  },
  {
   "cell_type": "code",
   "execution_count": 24,
   "id": "4fd422ae-e3ff-46c9-8208-0ecfb54f05dd",
   "metadata": {},
   "outputs": [],
   "source": [
    "grouped = defaultdict(list)\n",
    "refs = registry.queryDatasets(dataset_type_pattern)"
   ]
  },
  {
   "cell_type": "code",
   "execution_count": 25,
   "id": "1900d604-c223-4755-bd4d-449f45f0414a",
   "metadata": {},
   "outputs": [],
   "source": [
    "for ref in refs:\n",
    "    grouped[ref.datasetType.name].append(tuple(ref.dataId.values()))"
   ]
  },
  {
   "cell_type": "code",
   "execution_count": 29,
   "id": "bb2edade-8b43-41db-acb9-fc7f9e6d75fd",
   "metadata": {},
   "outputs": [
    {
     "data": {
      "text/plain": [
       "{'deepCoadd_calexp': '46158 data IDs, 46158 distinct data IDs',\n",
       " 'deepCoadd_calexp_background': '46158 data IDs, 46158 distinct data IDs'}"
      ]
     },
     "execution_count": 29,
     "metadata": {},
     "output_type": "execute_result"
    }
   ],
   "source": [
    "{k: f\"{len(v)} data IDs, {len(set(v))} distinct data IDs\" for k, v in sorted(grouped.items())}"
   ]
  },
  {
   "cell_type": "code",
   "execution_count": null,
   "id": "9174b942-2bdc-45f6-a60b-d1f46cb4c011",
   "metadata": {},
   "outputs": [],
   "source": [
    "help(registry)"
   ]
  },
  {
   "cell_type": "code",
   "execution_count": null,
   "id": "3880d63e-6b15-4daa-ba93-8ba64e1b9c4a",
   "metadata": {},
   "outputs": [],
   "source": [
    "# Retrieve a catalog"
   ]
  },
  {
   "cell_type": "code",
   "execution_count": null,
   "id": "52a3c309-97cd-4b6d-8b9d-5b98b3463bb4",
   "metadata": {},
   "outputs": [],
   "source": [
    "for x in registry.queryDatasetTypes():\n",
    "    print(x)"
   ]
  }
 ],
 "metadata": {
  "kernelspec": {
   "display_name": "LSST",
   "language": "python",
   "name": "lsst"
  },
  "language_info": {
   "codemirror_mode": {
    "name": "ipython",
    "version": 3
   },
   "file_extension": ".py",
   "mimetype": "text/x-python",
   "name": "python",
   "nbconvert_exporter": "python",
   "pygments_lexer": "ipython3",
   "version": "3.10.5"
  }
 },
 "nbformat": 4,
 "nbformat_minor": 5
}
