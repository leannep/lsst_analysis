{
 "cells": [
  {
   "cell_type": "markdown",
   "id": "749b0ddf",
   "metadata": {},
   "source": [
    "<img align=\"left\" src = https://project.lsst.org/sites/default/files/Rubin-O-Logo_0.png width=250 style=\"padding: 10px\"> \n",
    "<p><p><p><p>\n",
    "<b>Rubin Image Cutout Service Tutorial</b> <br>\n",
    "Contact author: <i>Leanne Guy</i> <br>\n",
    "Last verified to run: <i>2022-04-29</i> <br>\n",
    "LSST Science Piplines version: Weekly <i>2022_17</i> <br>\n",
    "Container Size: <i>medium</i> <br>\n",
    "Targeted learning level: <i>intermediate</i> <br>"
   ]
  },
  {
   "cell_type": "code",
   "execution_count": null,
   "id": "cddc1458",
   "metadata": {},
   "outputs": [],
   "source": [
    "# Import general python packages\n",
    "import numpy as np\n",
    "import re\n",
    "import pandas\n",
    "from pandas.testing import assert_frame_equal\n",
    "import uuid\n",
    "import requests\n",
    "import warnings\n",
    "\n",
    "# Import LSST packages\n",
    "from lsst.rsp import get_tap_service, retrieve_query\n",
    "from lsst.rsp.utils import get_access_token\n",
    "import lsst.daf.butler as Butler\n",
    "import lsst.geom as geom\n",
    "import lsst.resources\n",
    "from lsst.afw.image.exposure import Exposure, ExposureF\n",
    "\n",
    "\n",
    "# PyVO\n",
    "import pyvo\n",
    "from pyvo.dal.adhoc import DatalinkResults, SodaQuery\n",
    "from typing import Optional\n",
    "import pyvo.auth.authsession\n",
    "import requests\n",
    "\n",
    "# Plotting with MPL\n",
    "import matplotlib.pyplot as plt\n",
    "import lsst.afw.display as afwDisplay\n",
    "import lsst.afw.image as afwImage\n",
    "\n",
    "\n",
    "# Astropy\n",
    "from astropy import units as u\n",
    "from astropy.io import fits\n",
    "from astropy.coordinates import SkyCoord\n",
    "from astropy.time import Time\n",
    "from astropy.utils.data import download_file\n",
    "from astropy.wcs import WCS       \n",
    "from astropy.visualization import simple_norm, imshow_norm\n",
    "from astropy.visualization import ImageNormalize,  ZScaleInterval, AsinhStretch\n",
    "from astropy.units import UnitsWarning\n",
    "\n",
    "# Holoviz for interactive visualization\n",
    "import bokeh\n",
    "from bokeh.io import output_file, output_notebook, show\n",
    "from bokeh.layouts import gridplot\n",
    "from bokeh.models import ColumnDataSource, CDSView, GroupFilter, HoverTool\n",
    "from bokeh.plotting import figure\n",
    "from bokeh.transform import factor_cmap\n",
    "import holoviews as hv\n",
    "from holoviews import streams, opts\n",
    "from holoviews.operation.datashader import rasterize\n",
    "\n",
    "# Set the holoviews plotting library to be bokeh\n",
    "# You will see the holoviews + bokeh icons displayed when the library is loaded successfully\n",
    "hv.extension('bokeh')\n",
    "\n",
    "# Display bokeh plots inline in the notebook\n",
    "output_notebook()\n",
    "\n",
    "# AFW backend to MPL\n",
    "afwDisplay.setDefaultBackend('matplotlib')\n"
   ]
  },
  {
   "cell_type": "code",
   "execution_count": null,
   "id": "16c1b54f-d697-437e-8677-5d22a3d90942",
   "metadata": {},
   "outputs": [],
   "source": [
    "# Ignore warnings\n",
    "warnings.simplefilter(\"ignore\", category=UnitsWarning)\n",
    "warnings.simplefilter(\"ignore\", category=UserWarning)\n",
    "\n",
    "# Set the maximum number of rows to display from pandas\n",
    "pandas.set_option('display.max_rows', 20)"
   ]
  },
  {
   "cell_type": "code",
   "execution_count": null,
   "id": "564ebab2-e113-4466-9c69-71645f172645",
   "metadata": {},
   "outputs": [],
   "source": [
    "# This should match the verified version listed at the start of the notebook\n",
    "! echo ${IMAGE_DESCRIPTION}\n",
    "! eups list lsst_distrib"
   ]
  },
  {
   "cell_type": "code",
   "execution_count": null,
   "id": "81b8cd59-1ba3-4eaa-846f-6478ed0c3cf5",
   "metadata": {},
   "outputs": [],
   "source": [
    "# DP0.2 Butler repository \n",
    "config = 'dp02'\n",
    "collection = '2.2i/runs/DP0.2'\n",
    "butler = Butler.Butler(config, collections=collection)\n",
    "registry = butler.registry"
   ]
  },
  {
   "cell_type": "code",
   "execution_count": null,
   "id": "08185c5a-c727-4795-99be-6e50fcfb772d",
   "metadata": {},
   "outputs": [],
   "source": [
    "# Calexp\n",
    "datasetType = 'calexp'\n",
    "dataId = {'visit': 192350, 'detector': 175}\n",
    "calexp = butler.get(datasetType, dataId=dataId)\n",
    "ci = calexp.getInfo()"
   ]
  },
  {
   "cell_type": "code",
   "execution_count": null,
   "id": "5daba6b3-71f1-47e1-8fd0-69e440042fd7",
   "metadata": {},
   "outputs": [],
   "source": [
    "fig = plt.figure()\n",
    "display = afwDisplay.Display(frame=fig)\n",
    "display.scale('asinh', 'zscale')\n",
    "display.mtv(calexp.image)\n",
    "plt.title(f'PVI:{ci.getId()}, {ci.getFilter()}')\n",
    "plt.show()"
   ]
  },
  {
   "cell_type": "markdown",
   "id": "b9e562cb-0789-4fae-9bc0-b998d444a0e8",
   "metadata": {
    "tags": []
   },
   "source": [
    "## 1. Define and get a cutout with the Butler"
   ]
  },
  {
   "cell_type": "code",
   "execution_count": null,
   "id": "45ab0f4d-3fb1-4b3a-bec7-6df7170d1aa9",
   "metadata": {},
   "outputs": [],
   "source": [
    "# Coordinates of a region on this image\n",
    "x,y = (310, 2095)\n",
    "wcs = calexp.getWcs()\n",
    "radec = wcs.pixelToSky(x,y)\n",
    "print(radec.getRa().asDegrees(), radec.getDec().asDegrees())"
   ]
  },
  {
   "cell_type": "code",
   "execution_count": null,
   "id": "57275f3c-315c-40b9-a352-a41a03eced80",
   "metadata": {},
   "outputs": [],
   "source": [
    "# Define a circle around the point\n",
    "point = lsst.geom.SpherePoint(\n",
    "    radec.getRa().asDegrees() * lsst.geom.degrees, \n",
    "    radec.getDec().asDegrees() * lsst.geom.degrees)\n",
    "radius = 10 * lsst.geom.arcseconds\n",
    "point, radius"
   ]
  },
  {
   "cell_type": "code",
   "execution_count": null,
   "id": "22c3a5b4-c46f-45c5-87d2-a33fa55866d2",
   "metadata": {},
   "outputs": [],
   "source": [
    "# Need the UUID for the cutout service \n",
    "datasetRef = registry.findDataset('calexp', dataId)\n",
    "calexp_uuid = datasetRef.id\n",
    "assert isinstance(calexp_uuid, uuid.UUID)\n",
    "calexp_uuid"
   ]
  },
  {
   "cell_type": "code",
   "execution_count": null,
   "id": "3fcdffcb-f0ab-4561-9041-2fd28b4e67e5",
   "metadata": {},
   "outputs": [],
   "source": [
    "# Use the Butler to get the cutout\n",
    "cutoutSideLength = 100\n",
    "cutoutSize = geom.ExtentI(cutoutSideLength, cutoutSideLength)\n",
    "xy = geom.PointI(x,y)\n",
    "bbox = geom.BoxI(xy - cutoutSize // 2, cutoutSize)\n",
    "parameters = {'bbox': bbox}\n",
    "dsType = \"calexp\""
   ]
  },
  {
   "cell_type": "code",
   "execution_count": null,
   "id": "65d50dc5-d7e3-4a0c-aa3c-2a9088e49114",
   "metadata": {},
   "outputs": [],
   "source": [
    "cutout_image = butler.get(dsType, parameters=parameters, dataId=dataId)\n",
    "assert cutout_image is not None\n",
    "print(\"The size of the cutout in pixels is: \", cutout_image.image.array.shape)"
   ]
  },
  {
   "cell_type": "code",
   "execution_count": null,
   "id": "c6a6f102-d55b-441c-a8d0-90397a6b5318",
   "metadata": {},
   "outputs": [],
   "source": [
    "fig = plt.figure()\n",
    "display = afwDisplay.Display(frame=fig)\n",
    "display.scale('asinh', 'zscale')\n",
    "display.mtv(cutout_image.image)\n",
    "plt.title(f'PVI:{ci.getId()}, {ci.getFilter()}')\n",
    "plt.show()"
   ]
  },
  {
   "cell_type": "markdown",
   "id": "29e3c6d4-2f69-44ce-95fb-acd8a4539ec1",
   "metadata": {},
   "source": [
    "### 2. Querying the ObsCore table for a data product (calexp)"
   ]
  },
  {
   "cell_type": "code",
   "execution_count": null,
   "id": "4888e687-180f-4250-b917-d4171620fc7e",
   "metadata": {},
   "outputs": [],
   "source": [
    "# PyVo : # https://pyvo.readthedocs.io/en/latest/api/pyvo.dal.SIAService.html\n",
    "# TODO provide an introduction to SODA in the description section\n",
    "import pyvo as vo\n",
    "from pyvo.dal.adhoc import DatalinkResults, SodaQuery"
   ]
  },
  {
   "cell_type": "code",
   "execution_count": null,
   "id": "258a2858-4b1d-4e68-a770-403028a799f5",
   "metadata": {},
   "outputs": [],
   "source": [
    "service = get_tap_service()\n",
    "#service.describe()\n",
    "# Get the image from# Get our RSP access token (we will need this to download the data)\n",
    "token = get_access_token()\n",
    "# token"
   ]
  },
  {
   "cell_type": "code",
   "execution_count": null,
   "id": "1e8e80c6-0294-441d-b8a2-7bc41a783994",
   "metadata": {},
   "outputs": [],
   "source": [
    "query = \"SELECT COUNT(*) from ivoa.ObsCore\"\n",
    "result = service.search(query).to_table()\n",
    "result"
   ]
  },
  {
   "cell_type": "markdown",
   "id": "cd3414c5-42d1-4fc2-a34c-bea7f3fc0d10",
   "metadata": {},
   "source": [
    "The ivoa.ObsCore contains 8475974 entries"
   ]
  },
  {
   "cell_type": "code",
   "execution_count": null,
   "id": "e55e7cab-8690-4449-8b7c-80f6195f265b",
   "metadata": {},
   "outputs": [],
   "source": [
    "# Query the ObsCore table for the image usig the UUID \n",
    "# The UUID is part of the access url field \n",
    "# IS THERE A BETTER WAY TO DO THIS?\n",
    "url_str = '%' + str(datasetRef.id) + '%'\n",
    "query = \"\"\"SELECT * FROM ivoa.ObsCore  \n",
    "WHERE access_url like '\"\"\" + url_str + \"\"\"'\n",
    "\"\"\"\n",
    "print(query)\n",
    "results = service.search(query)"
   ]
  },
  {
   "cell_type": "code",
   "execution_count": null,
   "id": "41e188df-b8df-4dd1-977e-0f3065596b5c",
   "metadata": {},
   "outputs": [],
   "source": [
    "# We passed a UUID so there must be 1 result only\n",
    "assert len(results) == 1  \n",
    "results.to_table().show_in_notebook()"
   ]
  },
  {
   "cell_type": "markdown",
   "id": "8f71fdf4-c6fb-48ef-85b1-6c3d7a3c6967",
   "metadata": {},
   "source": [
    "The access_url in the LSST ObsCore model is is a link to a DataLink links service. It does not link directly to the image itself. This service provides access to the image but also to other information. Let's extract the access URL and look at it"
   ]
  },
  {
   "cell_type": "code",
   "execution_count": null,
   "id": "057ccf05-3dd1-453f-ad91-fe503ddf57e8",
   "metadata": {},
   "outputs": [],
   "source": [
    "# Extract the datalinks access url - this gives a lot of information about a data product\n",
    "result = results[0]\n",
    "f\"Datalink links service url: {result.getdataurl()}\""
   ]
  },
  {
   "cell_type": "code",
   "execution_count": null,
   "id": "03e65529-86a2-43d3-aa2c-258787feac44",
   "metadata": {},
   "outputs": [],
   "source": [
    "# Now we can use the datalinks service to access the (transient) signed URL for image access\n",
    "dr = DatalinkResults.from_result_url(result.getdataurl(),session=service._session)\n",
    "print(dr.status)"
   ]
  },
  {
   "cell_type": "code",
   "execution_count": null,
   "id": "5656d04b-cda3-4e32-a3cf-49a1e7a8fd90",
   "metadata": {},
   "outputs": [],
   "source": [
    "# Note that there are two results, the first is the access URL for the primary data product,\n",
    "# the second is the SODA cutout serice\n",
    "dr.to_table().show_in_notebook()"
   ]
  },
  {
   "cell_type": "code",
   "execution_count": null,
   "id": "cc0565af-6672-46da-bc60-c70748fad604",
   "metadata": {},
   "outputs": [],
   "source": [
    "# Now we can grab the google signed URL for the image (note that this will expire)\n",
    "image_url = dr.getrecord(0).get('access_url')\n",
    "print(image_url)"
   ]
  },
  {
   "cell_type": "code",
   "execution_count": null,
   "id": "96074baf-f05d-4772-bb97-93de86914d63",
   "metadata": {},
   "outputs": [],
   "source": [
    "# and then download the image and look at the FITS file information - looks like a PVI\n",
    "image_file = download_file(image_url)\n",
    "hdulist = fits.open(image_file)\n",
    "for hdu in hdulist:\n",
    "    print(hdu.name)\n",
    "# fits.info(image_file)"
   ]
  },
  {
   "cell_type": "code",
   "execution_count": null,
   "id": "fa867727-c815-4fa6-bbb5-7c759563079c",
   "metadata": {},
   "outputs": [],
   "source": [
    "# Let's plot the image and see what it looks like\n",
    "image = hdulist[1].data\n",
    "\n",
    "fig = plt.figure()\n",
    "ax = fig.add_subplot(1, 1, 1)\n",
    "im = imshow_norm(image, ax, origin='lower', \n",
    "                 interval=ZScaleInterval(), \n",
    "                 stretch=AsinhStretch(), cmap='gray')\n",
    "fig.colorbar(im[0])"
   ]
  },
  {
   "cell_type": "code",
   "execution_count": null,
   "id": "d87bc1c0-c8a0-4d53-bc04-73cb9bd8f212",
   "metadata": {},
   "outputs": [],
   "source": [
    "# This is the same image as we retrieved via the Butler"
   ]
  },
  {
   "cell_type": "markdown",
   "id": "b59c8395-8d50-4619-a786-306428d04e78",
   "metadata": {},
   "source": [
    "## 3. Using the Image Cutout Service \n",
    "\n",
    "The second result in the DatalinkResults gives us the SODAcutout serivce"
   ]
  },
  {
   "cell_type": "code",
   "execution_count": null,
   "id": "2b996b8b-aabd-4a49-821a-9f9b71e91fae",
   "metadata": {},
   "outputs": [],
   "source": [
    "# Create a Sodaquery Serivce \n",
    "sq = SodaQuery.from_resource(dr, dr.get_adhocservice_by_id(\"cutout-sync\"), session=service._session)"
   ]
  },
  {
   "cell_type": "code",
   "execution_count": null,
   "id": "16f5eda4-634c-4581-8173-eade75d04c84",
   "metadata": {},
   "outputs": [],
   "source": [
    "# Now define a circular cutout region using the ra, dec and radius\n",
    "ra = radec.getRa().asDegrees()\n",
    "dec = radec.getDec().asDegrees()\n",
    "print(ra, dec)\n",
    "radius = 0.09 # units\n",
    "sq.circle = (ra, dec, radius)"
   ]
  },
  {
   "cell_type": "code",
   "execution_count": null,
   "id": "5d861c6d-bc2b-44d8-9660-80475c6663e9",
   "metadata": {},
   "outputs": [],
   "source": [
    "# Execute the cuout and save to a file\n",
    "sodaPoly = os.path.join(os.getenv('HOME'), 'soda-polygon.fits')\n",
    "with open(sodaPoly, 'bw') as f:\n",
    "    f.write(sq.execute_stream().read())"
   ]
  },
  {
   "cell_type": "code",
   "execution_count": null,
   "id": "5d34df6a-55ad-4c39-87dd-5d350a580022",
   "metadata": {},
   "outputs": [],
   "source": [
    "# Display the cutout\n",
    "i = lsst.afw.image.ImageF(sodaPoly)     #read FITS file into afw image object\n",
    "afw_display = lsst.afw.display.Display()      #get an alias to the lsst.afw.display.Display() method\n",
    "afw_display.scale('asinh', 'zscale')    #set the image stretch algorithm and range\n",
    "afw_display.mtv(i)                     #load the image into the display"
   ]
  },
  {
   "cell_type": "markdown",
   "id": "d2ca7945-bfd3-4d21-93c6-82441dd56b92",
   "metadata": {},
   "source": [
    "# Circle type defined in DALI\n",
    "https://www.ivoa.net/documents/DALI/20170517/REC-DALI-1.1.html#tth_sEc3.3.6\n",
    "\n",
    "Circle values serialised in VOTable or service parameters must have the following metadata in the FIELD element: datatype=\"double\" or datatype=\"float\", arraysize=\"3\", xtype=\"circle\". For circles in a spherical coordinate system, the values are ordered as: longitude latitude radius; longitude values must fall within [0,360], latitude values within [-90,90], and radius values in (0,180]. For example:\n",
    "\n",
    "12.3 45.6 0.5\n",
    "\n",
    "In spherical coordinates, all longitude values must fall within [0,360] and all latitude values within [-90,90]."
   ]
  },
  {
   "cell_type": "code",
   "execution_count": null,
   "id": "7f463102-09c0-4455-b874-c3509633369c",
   "metadata": {},
   "outputs": [],
   "source": [
    "# Gregory How do I call the cutout service to give me the same cutout as I get above from the Butler? \n",
    "calexp_uuid = datasetRef.id\n",
    "cutout_coords = SkyCoord(radec.getRa().asDegrees()*u.degree, radec.getDec().asDegrees()*u.degree, unit=\"deg\", frame=\"icrs\")\n",
    "cutout_radius = 10\n",
    "cutout_pos = 'CIRCLE 55.8 -32.3 10.0'\n",
    "cutout_pos"
   ]
  },
  {
   "cell_type": "code",
   "execution_count": null,
   "id": "6eca3f9b-cbe4-47d2-b37e-b7598fb2035f",
   "metadata": {},
   "outputs": [],
   "source": [
    "query = SodaQuery(ics, id=calexp_uuid, pos = cutout_pos)"
   ]
  }
 ],
 "metadata": {
  "kernelspec": {
   "display_name": "LSST",
   "language": "python",
   "name": "lsst"
  },
  "language_info": {
   "codemirror_mode": {
    "name": "ipython",
    "version": 3
   },
   "file_extension": ".py",
   "mimetype": "text/x-python",
   "name": "python",
   "nbconvert_exporter": "python",
   "pygments_lexer": "ipython3",
   "version": "3.10.5"
  },
  "toc-autonumbering": false
 },
 "nbformat": 4,
 "nbformat_minor": 5
}
