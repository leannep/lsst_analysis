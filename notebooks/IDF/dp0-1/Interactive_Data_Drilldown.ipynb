{
 "cells": [
  {
   "cell_type": "code",
   "execution_count": null,
   "id": "0e57bd79-3a19-47df-971e-de6e6974ea49",
   "metadata": {},
   "outputs": [],
   "source": [
    "# Demonstrate interactive data drilldown # \n",
    "# Start with some metrics - look at the distribution of metrics \n",
    "# Then choose some to drilldown into - look at the underlying distribution that created the metric \n",
    "# Do interactive analysis"
   ]
  }
 ],
 "metadata": {
  "kernelspec": {
   "display_name": "LSST",
   "language": "python",
   "name": "lsst"
  },
  "language_info": {
   "codemirror_mode": {
    "name": "ipython",
    "version": 3
   },
   "file_extension": ".py",
   "mimetype": "text/x-python",
   "name": "python",
   "nbconvert_exporter": "python",
   "pygments_lexer": "ipython3",
   "version": "3.10.4"
  }
 },
 "nbformat": 4,
 "nbformat_minor": 5
}
