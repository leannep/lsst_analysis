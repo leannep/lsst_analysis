{
 "cells": [
  {
   "cell_type": "code",
   "execution_count": null,
   "metadata": {},
   "outputs": [],
   "source": [
    "import pyvo\n",
    "service = pyvo.dal.TAPService('http://gea.esac.esa.int/tap-server/tap')\n",
    "results = service.search(\"SELECT p1_o, p2_o FROM gaiadr2.vari_cepheid WHERE p1_o is not NULL AND p2_o is not NULL\")\n",
    "results"
   ]
  },
  {
   "cell_type": "code",
   "execution_count": null,
   "metadata": {},
   "outputs": [],
   "source": [
    "from bokeh.plotting import figure, output_file, show\n",
    "from bokeh.io import output_notebook\n",
    "from bokeh.resources import INLINE\n",
    "from jupyterlabutils import show_with_bokeh_server\n",
    "\n",
    "output_notebook(INLINE, hide_banner=True)\n",
    "\n",
    "\n",
    "p = figure(plot_width=500, plot_height=500)\n",
    "\n",
    "x = list(results['p1_o'])\n",
    "y = list(results['p2_o'])\n",
    "\n",
    "# add a circle renderer with a size, color, and alpha\n",
    "p.circle(x, y, size=5, color=\"navy\", alpha=0.5)\n",
    "\n",
    "# show the results\n",
    "show_with_bokeh_server(p)"
   ]
  },
  {
   "cell_type": "code",
   "execution_count": null,
   "metadata": {},
   "outputs": [],
   "source": [
    "import scipy.signal\n",
    "import numpy\n",
    "\n",
    "f = numpy.linspace(1, 5, 100000)\n",
    "\n",
    "\n",
    "pgram = scipy.signal.lombscargle(x, y, f, normalize=False)\n",
    "\n",
    "print(pgram)\n",
    "print(len(pgram))\n",
    "\n",
    "print(max(f))\n",
    "p = figure(plot_width=500, plot_height=500)\n",
    "# add a circle renderer with a size, color, and alpha\n",
    "p.circle(f, pgram, size=5, color=\"navy\", alpha=0.5)\n",
    "\n",
    "# show the results\n",
    "show_with_bokeh_server(p)"
   ]
  },
  {
   "cell_type": "code",
   "execution_count": null,
   "metadata": {},
   "outputs": [],
   "source": []
  }
 ],
 "metadata": {
  "kernelspec": {
   "display_name": "LSST",
   "language": "python",
   "name": "lsst"
  },
  "language_info": {
   "codemirror_mode": {
    "name": "ipython",
    "version": 3
   },
   "file_extension": ".py",
   "mimetype": "text/x-python",
   "name": "python",
   "nbconvert_exporter": "python",
   "pygments_lexer": "ipython3",
   "version": "3.10.5"
  }
 },
 "nbformat": 4,
 "nbformat_minor": 4
}
