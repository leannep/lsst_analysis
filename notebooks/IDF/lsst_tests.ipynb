{
 "cells": [
  {
   "cell_type": "code",
   "execution_count": 1,
   "id": "501113a8-86c8-4ea8-805e-ecaeff0d8f90",
   "metadata": {},
   "outputs": [],
   "source": [
    "# General python imports\n",
    "import numpy as np\n",
    "import pandas as pd\n",
    "import warnings\n",
    "\n",
    "# Updadte this option setting as you prefer\n",
    "pd.set_option('display.max_rows', 5)\n",
    "\n",
    "# Astropy\n",
    "from astropy.visualization import  ZScaleInterval, AsinhStretch\n",
    "from astropy import units as u\n",
    "from astropy.coordinates import SkyCoord\n",
    "\n",
    "# Rubin TAP service utilities\n",
    "from lsst.rsp import get_tap_service, retrieve_query\n"
   ]
  },
  {
   "cell_type": "code",
   "execution_count": 2,
   "id": "9e3a53eb-6f91-4877-aa48-44860fb2e3dd",
   "metadata": {},
   "outputs": [],
   "source": [
    "# Get a Rubin TAP service instance. \n",
    "service = get_tap_service()\n",
    "assert service is not None"
   ]
  },
  {
   "cell_type": "code",
   "execution_count": 3,
   "id": "69d31da2-3259-4c86-9ec6-91ffd29aef8d",
   "metadata": {},
   "outputs": [],
   "source": [
    "# Define a reference position on the sky and a radius in arcseconds for a cone search\n",
    "# TODOO Change the sky position to have SNe \n",
    "c1 = SkyCoord(ra=59.7955707*u.degree, dec=-29.91176471*u.degree, frame='icrs')\n",
    "radius = 5 * u.arcmin"
   ]
  },
  {
   "cell_type": "code",
   "execution_count": 4,
   "id": "34ba7d6e-2a9f-4bd6-8760-de776bdd2a58",
   "metadata": {},
   "outputs": [],
   "source": [
    "query = \"SELECT obj.ra, obj.dec, obj.objectId, obj.mag_g, obj.mag_r, \" \\\n",
    "        \"obj.mag_i, obj.mag_g_cModel, obj.mag_r_cModel, obj.mag_i_cModel,\" \\\n",
    "        \"obj.psFlux_g, obj.psFlux_r, obj.psFlux_i, obj.cModelFlux_g, \" \\\n",
    "        \"obj.cModelFlux_r, obj.cModelFlux_i, obj.tract, obj.patch, \" \\\n",
    "        \"obj.extendedness, obj.good, obj.clean, \" \\\n",
    "        \"truth.mag_r as truth_mag_r, truth.match_objectId, \"\\\n",
    "        \"truth.flux_g, truth.flux_r, truth.flux_i, truth.truth_type, \" \\\n",
    "        \"truth.match_sep, truth.is_variable \" \\\n",
    "        \"FROM dp01_dc2_catalogs.object as obj \" \\\n",
    "        \"JOIN dp01_dc2_catalogs.truth_match as truth \" \\\n",
    "        \"ON truth.match_objectId = obj.objectId \" \\\n",
    "        \"WHERE CONTAINS(POINT('ICRS', obj.ra, obj.dec),\"\\\n",
    "        \"CIRCLE('ICRS', \" + str(c1.ra.value) + \", \" + str(c1.dec.value) + \", \" \\\n",
    "        + str(radius.to(u.deg).value) + \" )) = 1 \" \\\n",
    "        \"AND truth.match_objectid >= 0 \"\\\n",
    "        \"AND truth.is_good_match = 1\""
   ]
  },
  {
   "cell_type": "code",
   "execution_count": 7,
   "id": "05eb67d5-9b05-4362-b709-ce162273347f",
   "metadata": {},
   "outputs": [
    {
     "name": "stderr",
     "output_type": "stream",
     "text": [
      "WARNING: UnitsWarning: Unit 'nmgy' not supported by the VOUnit standard.  [astropy.units.format.vounit]\n"
     ]
    },
    {
     "data": {
      "text/html": [
       "<pre style=\"margin: 0.1em;\n",
       "padding-left: 0.25em;\n",
       "border-left-style: solid;\n",
       "font-family: var(--jp-code-font-family);\n",
       "font-size: var(--jp-code-font-size);\n",
       "line-height: var(--jp-code-line-height);\n",
       "\"><span style=\"color: var(--jp-warn-color2)\">astropy</span> <span style=\"color: var(--jp-warn-color0)\">WARNING</span>: UnitsWarning: Unit &#x27;nmgy&#x27; not supported by the VOUnit standard. </pre>"
      ],
      "text/plain": [
       "<IPython.core.display.HTML object>"
      ]
     },
     "metadata": {},
     "output_type": "display_data"
    },
    {
     "name": "stderr",
     "output_type": "stream",
     "text": [
      "WARNING: UnitsWarning: Unit 'asec' not supported by the VOUnit standard. Did you mean arcsec? [astropy.units.format.vounit]\n"
     ]
    },
    {
     "data": {
      "text/html": [
       "<pre style=\"margin: 0.1em;\n",
       "padding-left: 0.25em;\n",
       "border-left-style: solid;\n",
       "font-family: var(--jp-code-font-family);\n",
       "font-size: var(--jp-code-font-size);\n",
       "line-height: var(--jp-code-line-height);\n",
       "\"><span style=\"color: var(--jp-warn-color2)\">astropy</span> <span style=\"color: var(--jp-warn-color0)\">WARNING</span>: UnitsWarning: Unit &#x27;asec&#x27; not supported by the VOUnit standard. Did you mean arcsec?</pre>"
      ],
      "text/plain": [
       "<IPython.core.display.HTML object>"
      ]
     },
     "metadata": {},
     "output_type": "display_data"
    },
    {
     "name": "stdout",
     "output_type": "stream",
     "text": [
      "CPU times: user 738 ms, sys: 19.7 ms, total: 758 ms\n",
      "Wall time: 1.48 s\n"
     ]
    }
   ],
   "source": [
    "%%time\n",
    "# Execute the query and convert the results to a pandas dataframe\n",
    "data = service.search(query).to_table().to_pandas() \n",
    "assert len(data) == 10284"
   ]
  },
  {
   "cell_type": "code",
   "execution_count": null,
   "id": "e5bdd3d1-a53a-42a4-9190-433eb03b69cb",
   "metadata": {},
   "outputs": [],
   "source": [
    "# Map the truth type to a descriptive string\n",
    "data['truth_type'] = data['truth_type'].map(\n",
    "    {1: 'galaxy', 2: 'star', 3: 'SNe'})"
   ]
  },
  {
   "cell_type": "code",
   "execution_count": 21,
   "id": "0acf155c-0b84-434d-a1c1-d14f5d949fa1",
   "metadata": {},
   "outputs": [
    {
     "data": {
      "text/plain": [
       "array([127.3305653,  78.2418751,  59.2568471, ...,  57.5786937,\n",
       "       239.210167 ,  34.5541725])"
      ]
     },
     "execution_count": 21,
     "metadata": {},
     "output_type": "execute_result"
    }
   ],
   "source": [
    "data['psFlux_g'].to_numpy()"
   ]
  },
  {
   "cell_type": "code",
   "execution_count": 25,
   "id": "fd227587-37db-4ef0-98ba-2feb910a6db4",
   "metadata": {},
   "outputs": [
    {
     "data": {
      "text/latex": [
       "$24.50083 \\; \\mathrm{mag}$$\\mathrm{\\left( \\mathrm{AB} \\right)}$"
      ],
      "text/plain": [
       "<Magnitude 24.50083039 mag(AB)>"
      ]
     },
     "execution_count": 25,
     "metadata": {},
     "output_type": "execute_result"
    }
   ],
   "source": [
    "# To convert between nJy and AB magnitudes (or other flux units), we recommend using astropy.units. \n",
    "# For example, you can see that 575 nJy is approximately the 5-sigma 30s imaging depth of LSST, and the AB magnitude zero is nearly,\n",
    "(575*u.nJy).to(u.ABmag)"
   ]
  },
  {
   "cell_type": "code",
   "execution_count": 26,
   "id": "38d557dd-dbc7-4b87-bcf3-b452fc53c7fc",
   "metadata": {},
   "outputs": [
    {
     "data": {
      "text/plain": [
       "3630780547701.003"
      ]
     },
     "execution_count": 26,
     "metadata": {},
     "output_type": "execute_result"
    }
   ],
   "source": [
    "# but not exactly, 3631 Jy as it is often hard coded to be:\n",
    "zero_Nj = (0*u.ABmag).to_value(u.nJy)\n",
    "zero_Nj"
   ]
  },
  {
   "cell_type": "code",
   "execution_count": 23,
   "id": "c24f7f3b-d5b5-4d3b-88a5-1ac24b5d282d",
   "metadata": {},
   "outputs": [
    {
     "data": {
      "text/plain": [
       "0        26.137668\n",
       "1        26.666402\n",
       "           ...    \n",
       "10282    25.453051\n",
       "10283    27.553749\n",
       "Name: psfMag_g, Length: 10284, dtype: float64"
      ]
     },
     "execution_count": 23,
     "metadata": {},
     "output_type": "execute_result"
    }
   ],
   "source": [
    "# Convert flux to magnitude. psfFlux has the localPhotoCalib already applied? Just use astropy to convert to magnitude\n",
    "data['psfMag_g'] = (data['psFlux_g'].to_numpy()*u.nJy).to(u.ABmag)"
   ]
  },
  {
   "cell_type": "code",
   "execution_count": 24,
   "id": "4f42cc06-f320-406c-a6b9-d6d74bc65046",
   "metadata": {},
   "outputs": [
    {
     "data": {
      "text/plain": [
       "0        26.137668\n",
       "1        26.666402\n",
       "           ...    \n",
       "10282    25.453051\n",
       "10283    27.553749\n",
       "Name: psfMag_g, Length: 10284, dtype: float64"
      ]
     },
     "execution_count": 24,
     "metadata": {},
     "output_type": "execute_result"
    }
   ],
   "source": [
    "data['psfMag_g']"
   ]
  },
  {
   "cell_type": "code",
   "execution_count": null,
   "id": "4d61ab4e-4712-4a7c-a858-9d06c251711c",
   "metadata": {},
   "outputs": [],
   "source": [
    "# instFlux columns are in counts. These columns are only in the reference and forced_photometry catalogs. To convert to flux: \n",
    "# https://community.lsst.org/t/photocalib-has-replaced-calib-welcoming-our-nanojansky-overlords/3648\n",
    "flux = instFlux*localPhotoCalib"
   ]
  }
 ],
 "metadata": {
  "kernelspec": {
   "display_name": "LSST",
   "language": "python",
   "name": "lsst"
  },
  "language_info": {
   "codemirror_mode": {
    "name": "ipython",
    "version": 3
   },
   "file_extension": ".py",
   "mimetype": "text/x-python",
   "name": "python",
   "nbconvert_exporter": "python",
   "pygments_lexer": "ipython3",
   "version": "3.10.5"
  }
 },
 "nbformat": 4,
 "nbformat_minor": 5
}
