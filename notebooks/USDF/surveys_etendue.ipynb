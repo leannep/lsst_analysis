{
 "cells": [
  {
   "cell_type": "code",
   "execution_count": null,
   "id": "fadbeb05",
   "metadata": {},
   "outputs": [],
   "source": [
    "# Plot of eurvey étendue\n",
    "# original data from Tony Tyson"
   ]
  },
  {
   "cell_type": "code",
   "execution_count": null,
   "id": "f0d4dc37",
   "metadata": {},
   "outputs": [],
   "source": [
    "# Data (edit this section)\n",
    "# keys = mission\n",
    "# then list with [year survey, max,  flag]\n",
    "# year:  year start\n",
    "# survey: etendue in survey mode\n",
    "# max : max etendue if the telescipe were run in survey mode all the time\n",
    "# flag:  1 for space based and 2 for ground based\n",
    "data = dict()\n",
    "\n",
    "data[\"SDSS\"] = [2000,1.4,5.7,1]\n",
    "data[\"WIYN ODU\"] = [2000,1.5,4.2,1]\n",
    "data[\"VST\"] = [2000,4.7,4.7,1]\n",
    "data[\"VISTA\"] = [2000,6.8,6.8,1]\n",
    "data[\"SkyMapper\"] = [2000,5.2,5.2,1]\n",
    "data[\"PTF\"] = [2000,9.0, 9.0,1]\n",
    "data[\"CFHT\"] = [2000,2.0,8.0,1]\n",
    "data[\"DES\"] = [2000,10.0, 29.0,1]\n",
    "data[\"Subaru HSC\"] = [2000,7.0,50.0,1]\n",
    "data[\"PanSTARRS\"] = [2000,13.0,52.0,1]\n",
    "data[\"Rubin\"] = [2000,319.0,319.0,1]\n"
   ]
  },
  {
   "cell_type": "code",
   "execution_count": null,
   "id": "aedd94b6",
   "metadata": {},
   "outputs": [],
   "source": [
    "# Log plot \n",
    "p_log= figure(x_range=surveys, plot_height=450, plot_width=600,  \n",
    "              y_axis_type=\"log\", y_range = [10 ** 9, 5* 10 ** 16], \n",
    "              toolbar_location=None, title=\"Data volume per night\")\n",
    "\n",
    "p_log.vbar(x='surveys', width=0.9, bottom=0.1, top='volume', source= source,\n",
    "           fill_alpha = .8, line_alpha = .5,\n",
    "           line_color='black', line_dash='solid',\n",
    "           fill_color=factor_cmap('surveys', palette=Blues8, factors=surveys)\n",
    "  )\n",
    "\n",
    "labels = LabelSet(x='surveys', y='volume', text='label', \n",
    "                  text_font_size=\"13px\", text_color=\"#555555\",\n",
    "                  x_offset=0, y_offset=5, source=source, \n",
    "                  render_mode='canvas', \n",
    "                  text_align='center'\n",
    "                 )\n",
    "p_log.add_layout(labels)\n",
    "\n",
    "p_log.yaxis.axis_label = 'Data Volume (bytes/night)'\n",
    "#p_log.xaxis.axis_label = 'Surveys'\n",
    "p_log.title.text_font_size = '12pt'\n",
    "p_log.xaxis.axis_label_text_font_size = '12pt'\n",
    "p_log.yaxis.axis_label_text_font_size = '12pt'\n",
    "p_log.xaxis.major_label_text_font_size = \"11pt\"\n",
    "p_log.yaxis.major_label_text_font_size = \"11pt\"\n",
    "#p_log.axis.axis_label_text_font_style = 'bold'\n",
    "\n",
    "show(p_log)"
   ]
  }
 ],
 "metadata": {
  "kernelspec": {
   "display_name": "LSST",
   "language": "python",
   "name": "lsst"
  },
  "language_info": {
   "codemirror_mode": {
    "name": "ipython",
    "version": 3
   },
   "file_extension": ".py",
   "mimetype": "text/x-python",
   "name": "python",
   "nbconvert_exporter": "python",
   "pygments_lexer": "ipython3",
   "version": "3.8.8"
  }
 },
 "nbformat": 4,
 "nbformat_minor": 5
}
