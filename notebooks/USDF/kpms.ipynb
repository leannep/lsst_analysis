{
 "cells": [
  {
   "cell_type": "markdown",
   "metadata": {},
   "source": [
    "# Science Performance Metrics - Photometric\n",
    "<br>Owner(s): **Leanne Guy** ([@leannep](https://github.com/?body=@leannep))\n",
    "<br>Last Verified to Run: **2021-02-19**\n",
    "<br>Verified Stack Release: **21.0.0**\n",
    "\n",
    "This notebook demonstrates the [Photometric Science Performance Metrics](https://ls.st/dmsr) \n",
    "\n",
    "### Learning Objectives:\n",
    "\n",
    "After working through this tutorial you should be able to: \n",
    "1. Run the Photometric Science Performance Metrics\n",
    "2. ....\n",
    "\n",
    "### Logistics\n",
    "This notebook is intended to be runnable on `data.lsst.cloud` from a local git clone of https://github.com/leannep/.\n",
    "\n",
    "## Set-up"
   ]
  },
  {
   "cell_type": "code",
   "execution_count": 2,
   "metadata": {},
   "outputs": [
    {
     "name": "stdout",
     "output_type": "stream",
     "text": [
      "nb-leannep-d-2021-03-09\n",
      "faro                  master-g65043810f4+1caa810786 \td_2021_03_09 current setup\n"
     ]
    }
   ],
   "source": [
    "# What version of the Stack are we using?\n",
    "! echo $HOSTNAME\n",
    "! eups list -s | grep faro"
   ]
  },
  {
   "cell_type": "code",
   "execution_count": 2,
   "metadata": {},
   "outputs": [
    {
     "data": {
      "text/plain": [
       "'/home/leannep/notebooks'"
      ]
     },
     "execution_count": 2,
     "metadata": {},
     "output_type": "execute_result"
    }
   ],
   "source": [
    "%pwd"
   ]
  },
  {
   "cell_type": "code",
   "execution_count": 62,
   "metadata": {},
   "outputs": [],
   "source": [
    "import numpy as np\n",
    "import pandas as pd\n",
    "import matplotlib.pyplot as plt\n",
    "from matplotlib.colors import LogNorm\n",
    "from itertools import cycle\n",
    "from astropy.io import fits\n",
    "import time,glob,os\n",
    "\n",
    "import lsst.pipe.base as pipeBase\n",
    "\n",
    "#import warnings\n",
    "#warnings.filterwarnings(\"ignore\", category=UserWarning)\n",
    "\n",
    "%matplotlib inline"
   ]
  },
  {
   "cell_type": "code",
   "execution_count": 16,
   "metadata": {},
   "outputs": [
    {
     "name": "stdout",
     "output_type": "stream",
     "text": [
      "nb-leannep-w-2021-04\n",
      "   21.0.0-1-g00ce914+8f964e8600 \tw_2021_04 current setup\n",
      "Test data in: /home/leannep/DATA/srd_metrics/test_data\n"
     ]
    }
   ],
   "source": [
    "# What version of the Stack am I using?\n",
    "! echo $HOSTNAME\n",
    "! eups list -s lsst_distrib\n",
    "\n",
    "# Make a directory \n",
    "username=os.environ.get('USERNAME')\n",
    "base_dir='/home/'+username+'/DATA/' +'srd_metrics'\n",
    "if not os.path.exists(base_dir):\n",
    "    print(\"Data directory does not exist: \" + base_dir)\n",
    "    print(\"Create and setup test data before continuing\")\n",
    "    \n",
    "testdata_dir = os.path.join(base_dir, \"test_data\")\n",
    "if not os.path.exists(base_dir):\n",
    "    print(\"Test data dir: \"+ testdata_dir + \"not found ... setup before continuing\")\n",
    "print(\"Test data in: \" + testdata_dir)"
   ]
  },
  {
   "cell_type": "code",
   "execution_count": 30,
   "metadata": {},
   "outputs": [],
   "source": [
    "# Create a matched catalog\n",
    "from lsst.afw.table import SimpleCatalog\n",
    "PA1_i_cat = \"matchedCatalogTract_0_i.fits.gz\"\n",
    "PA1_r_cat = \"matchedCatalogTract_0_r.fits.gz\"\n",
    "catalog_pa1_i = SimpleCatalog.readFits(os.path.join(testdata_dir, PA1_i_cat))\n",
    "catalog_pa1_r = SimpleCatalog.readFits(os.path.join(testdata_dir, PA1_r_cat))"
   ]
  },
  {
   "cell_type": "code",
   "execution_count": 31,
   "metadata": {},
   "outputs": [],
   "source": [
    "# Expected  PA1 results\n",
    "import yaml\n",
    "expected_pa1_i = yaml.load(os.path.join(testdata_dir, 'PA1_expected_0_i.yaml'), Loader=yaml.FullLoader)\n",
    "expected_pa1_r = yaml.load(os.path.join(testdata_dir, 'PA1_expected_0_r.yaml'), Loader=yaml.FullLoader)"
   ]
  },
  {
   "cell_type": "code",
   "execution_count": 6,
   "metadata": {},
   "outputs": [],
   "source": [
    "filter_dict = {'u': 1, 'g': 2, 'r': 3, 'i': 4, 'z': 5, 'y': 6,\n",
    "               'HSC-U': 1, 'HSC-G': 2, 'HSC-R': 3, 'HSC-I': 4, 'HSC-Z': 5, 'HSC-Y': 6}"
   ]
  },
  {
   "cell_type": "code",
   "execution_count": 112,
   "metadata": {},
   "outputs": [],
   "source": [
    "from lsst.afw.table import GroupView\n",
    "def filterMatches(matchedCatalog, snrMin=None, snrMax=None,\n",
    "                  extended=None, doFlags=None, isPrimary=None,\n",
    "                  psfStars=None, photoCalibStars=None,\n",
    "                  astromCalibStars=None):\n",
    "\n",
    "    if snrMin is None:\n",
    "        snrMin = 50.0\n",
    "    if snrMax is None:\n",
    "        snrMax = np.Inf\n",
    "    if extended is None:\n",
    "        extended = False\n",
    "    if doFlags is None:\n",
    "        doFlags = True\n",
    "    nMatchesRequired = 2\n",
    "    if isPrimary is None:\n",
    "        isPrimary = True\n",
    "    if psfStars is None:\n",
    "        psfStars = False\n",
    "    if photoCalibStars is None:\n",
    "        photoCalibStars = False\n",
    "    if astromCalibStars is None:\n",
    "        astromCalibStars = False\n",
    "\n",
    "    matchedCat = GroupView.build(matchedCatalog)\n",
    "    magKey = matchedCat.schema.find('slot_PsfFlux_mag').key\n",
    "\n",
    "    def nMatchFilter(cat):\n",
    "        if len(cat) < nMatchesRequired:\n",
    "            return False\n",
    "        return np.isfinite(cat.get(magKey)).all()\n",
    "\n",
    "    def snrFilter(cat):\n",
    "        # Note that this also implicitly checks for psfSnr being non-nan.\n",
    "        snr = cat.get('base_PsfFlux_snr')\n",
    "        ok0, = np.where(np.isfinite(snr))\n",
    "        medianSnr = np.median(snr[ok0])\n",
    "        return snrMin <= medianSnr and medianSnr <= snrMax\n",
    "\n",
    "    def ptsrcFilter(cat):\n",
    "        ext = cat.get('base_ClassificationExtendedness_value')\n",
    "        # Keep only objects that are flagged as \"not extended\" in *ALL* visits,\n",
    "        # (base_ClassificationExtendedness_value = 1 for extended, 0 for point-like)\n",
    "        if extended:\n",
    "            return np.min(ext) > 0.9\n",
    "        else:\n",
    "            return np.max(ext) < 0.9\n",
    "\n",
    "    def flagFilter(cat):\n",
    "        if doFlags:\n",
    "            flag_sat = cat.get(\"base_PixelFlags_flag_saturated\")\n",
    "            flag_cr = cat.get(\"base_PixelFlags_flag_cr\")\n",
    "            flag_bad = cat.get(\"base_PixelFlags_flag_bad\")\n",
    "            flag_edge = cat.get(\"base_PixelFlags_flag_edge\")\n",
    "            return np.logical_not(np.any([flag_sat, flag_cr, flag_bad, flag_edge]))\n",
    "        else:\n",
    "            return True\n",
    "\n",
    "    def isPrimaryFilter(cat):\n",
    "        if isPrimary:\n",
    "            flag_isPrimary = cat.get(\"detect_isPrimary\")\n",
    "            return np.all(flag_isPrimary)\n",
    "        else:\n",
    "            return True\n",
    "\n",
    "    def fullFilter(cat):\n",
    "        return nMatchFilter(cat) and snrFilter(cat) and ptsrcFilter(cat)\\\n",
    "            and flagFilter(cat) and isPrimaryFilter(cat)\n",
    "\n",
    "    return matchedCat.where(fullFilter)"
   ]
  },
  {
   "cell_type": "code",
   "execution_count": 111,
   "metadata": {},
   "outputs": [],
   "source": [
    "def computeWidths(array):\n",
    "    # For scalars, math.sqrt is several times faster than numpy.sqrt.\n",
    "    rmsSigma = math.sqrt(np.mean(array**2))\n",
    "    iqrSigma = np.subtract.reduce(np.percentile(array, [75, 25])) / (norm.ppf(0.75)*2)\n",
    "    return rmsSigma, iqrSigma"
   ]
  },
  {
   "cell_type": "code",
   "execution_count": 110,
   "metadata": {},
   "outputs": [],
   "source": [
    "def getRandomDiffRmsInMmags(array, rng=None):\n",
    "    thousandDivSqrtTwo = 1000/math.sqrt(2)\n",
    "    return thousandDivSqrtTwo * getRandomDiff(array, rng=rng)"
   ]
  },
  {
   "cell_type": "code",
   "execution_count": 109,
   "metadata": {},
   "outputs": [],
   "source": [
    "def getRandomDiff(array, rng=None):\n",
    "    if not rng:\n",
    "        rng = np.random.default_rng()\n",
    "    a, b = rng.choice(range(len(array)), 2, replace=False)\n",
    "    return array[a] - array[b]"
   ]
  },
  {
   "cell_type": "code",
   "execution_count": 108,
   "metadata": {},
   "outputs": [],
   "source": [
    "import functools\n",
    "import math\n",
    "import numpy as np\n",
    "from scipy.stats import norm\n",
    "import astropy.units as u\n",
    "\n",
    "def calcPhotRepeatSample(matches, magKey, rng=None):\n",
    "    sampler = functools.partial(getRandomDiffRmsInMmags, rng=rng)\n",
    "    magDiffs = matches.aggregate(sampler, field=magKey)\n",
    "    magMean = matches.aggregate(np.mean, field=magKey)\n",
    "    rms, iqr = computeWidths(magDiffs)\n",
    "    return pipeBase.Struct(rms=rms, iqr=iqr, magDiffs=magDiffs, magMean=magMean,)"
   ]
  },
  {
   "cell_type": "code",
   "execution_count": 148,
   "metadata": {},
   "outputs": [],
   "source": [
    "# Calculate the photometric repeatability of measurements across a set of randomly selected pairs of visits.\n",
    "def calcPhotRepeat(matches, magKey, numRandomShuffles=50, randomSeed=None):\n",
    "    rng = np.random.default_rng(randomSeed)\n",
    "    \n",
    "    # Selects the random pairs of visits \n",
    "    mprSamples = [calcPhotRepeatSample(matches, magKey, rng=rng)\n",
    "                  for _ in range(numRandomShuffles)]\n",
    "\n",
    "    for mpr in mprSamples:\n",
    "        r = mpr.rms *  u.mmag\n",
    "        i = mpr.iqr * u.mmag\n",
    "        print(str(r) + ', '  + str(i))\n",
    "        \n",
    "    \n",
    "    rms = np.array([mpr.rms for mpr in mprSamples]) * u.mmag\n",
    "    iqr = np.array([mpr.iqr for mpr in mprSamples]) * u.mmag\n",
    "    magDiff = np.array([mpr.magDiffs for mpr in mprSamples]) * u.mmag\n",
    "    magMean = np.array([mpr.magMean for mpr in mprSamples]) * u.mag\n",
    "    repeat = np.mean(iqr)\n",
    "    return {'rms': rms, 'iqr': iqr, 'magDiff': magDiff, 'magMean': magMean, 'repeatability': repeat}"
   ]
  },
  {
   "cell_type": "code",
   "execution_count": 141,
   "metadata": {},
   "outputs": [],
   "source": [
    "# Compute photometric repeatability \n",
    "def photRepeat(matchedCatalog, numRandomShuffles=50, randomSeed=None, **filterargs):\n",
    "    \n",
    "    # Apply selections for bright, isolated point sources on the matched catalog\n",
    "    filteredCat = filterMatches(matchedCatalog, **filterargs)\n",
    "    magKey = filteredCat.schema.find('slot_PsfFlux_mag').key\n",
    "\n",
    "    # Require at least nMinPhotRepeat objects to calculate the repeatability:\n",
    "    nMinPhotRepeat = 50\n",
    "    if filteredCat.count > nMinPhotRepeat:\n",
    "        phot_resid_meas = calcPhotRepeat(filteredCat, magKey, numRandomShuffles=50, randomSeed=randomSeed)\n",
    "        return phot_resid_meas\n",
    "    else:\n",
    "        return {'nomeas': np.nan*u.mmag}"
   ]
  },
  {
   "cell_type": "code",
   "execution_count": 149,
   "metadata": {},
   "outputs": [
    {
     "name": "stdout",
     "output_type": "stream",
     "text": [
      "Measuring PA1 band: i\n",
      "15.003075050688878 mmag, 13.803541490795373 mmag\n",
      "14.771605495091457 mmag, 14.31340202812624 mmag\n",
      "15.01236863651567 mmag, 14.071282270638527 mmag\n",
      "15.128323595384904 mmag, 14.423013274569831 mmag\n",
      "14.7208018726209 mmag, 13.888378689880234 mmag\n",
      "14.909305426203971 mmag, 14.158208280518075 mmag\n",
      "15.173045788205352 mmag, 13.925115870870316 mmag\n",
      "15.15646161002913 mmag, 13.481592115485112 mmag\n",
      "14.722617129488759 mmag, 13.305003772354185 mmag\n",
      "14.963398573561754 mmag, 14.024765026422019 mmag\n",
      "14.7207074250828 mmag, 14.05206011061424 mmag\n",
      "14.788682347523363 mmag, 13.934184192305098 mmag\n",
      "14.749725011477306 mmag, 14.377388962488931 mmag\n",
      "14.81971687998953 mmag, 13.509716272530884 mmag\n",
      "14.57650353857061 mmag, 13.53802249323352 mmag\n",
      "14.585646279700303 mmag, 13.720690559322072 mmag\n",
      "14.50116270430295 mmag, 13.53615789301272 mmag\n",
      "14.75255980046964 mmag, 13.463397039033024 mmag\n",
      "14.532269977526939 mmag, 13.201161085655798 mmag\n",
      "14.537538977142539 mmag, 13.435042178559888 mmag\n",
      "14.656213960060146 mmag, 13.54554177022991 mmag\n",
      "14.880873360252718 mmag, 14.166091066762434 mmag\n",
      "14.961537677522163 mmag, 14.434091533913696 mmag\n",
      "14.752292926257583 mmag, 13.825265611825577 mmag\n",
      "15.039836614247566 mmag, 14.465295147169293 mmag\n",
      "14.837470803220059 mmag, 14.216590077134487 mmag\n",
      "14.985991690166028 mmag, 13.492250376367217 mmag\n",
      "14.897619729957079 mmag, 13.781404352893938 mmag\n",
      "14.821437889487472 mmag, 13.84108257357519 mmag\n",
      "14.819135574812632 mmag, 13.897299323279226 mmag\n",
      "14.675483213275925 mmag, 14.117394095175396 mmag\n",
      "14.785660397623266 mmag, 13.552259049290475 mmag\n",
      "15.102612730634842 mmag, 13.875346246115061 mmag\n",
      "14.62944697622111 mmag, 13.443102729065947 mmag\n",
      "14.81277048326099 mmag, 13.478779264478646 mmag\n",
      "14.663842538066895 mmag, 14.196434844762123 mmag\n",
      "14.887061945067844 mmag, 14.249310399580194 mmag\n",
      "15.078159962389071 mmag, 13.709272138063795 mmag\n",
      "14.608163960923592 mmag, 13.233605474393185 mmag\n",
      "14.834046252132259 mmag, 13.320128920667496 mmag\n",
      "14.66768969790844 mmag, 13.854356099344136 mmag\n",
      "15.022933672662512 mmag, 13.99311905688611 mmag\n",
      "14.958805753945015 mmag, 14.689970787601698 mmag\n",
      "15.090854631849115 mmag, 12.837510878180913 mmag\n",
      "14.938576333196458 mmag, 13.611701606885145 mmag\n",
      "14.849180058990187 mmag, 13.865320569483544 mmag\n",
      "14.998417055110236 mmag, 14.106726072033977 mmag\n",
      "15.110494969499921 mmag, 14.090412964930353 mmag\n",
      "15.002249773794441 mmag, 13.401347904198548 mmag\n",
      "14.700054195054795 mmag, 13.592501492674366 mmag\n",
      "[[ 10.5072882   -0.24792056 -17.73235222 ...   8.12536544   6.25131037\n",
      "    1.74767302]\n",
      " [ 10.5072882   -0.24792056 -17.73235222 ...  -8.12536544  -6.25131037\n",
      "    1.74767302]\n",
      " [ 10.5072882    0.24792056 -17.73235222 ...  -8.12536544   6.25131037\n",
      "    1.74767302]\n",
      " ...\n",
      " [ 10.5072882    0.24792056  17.73235222 ...   8.12536544  -6.25131037\n",
      "    1.74767302]\n",
      " [ 10.5072882    0.24792056  17.73235222 ...  -8.12536544  -6.25131037\n",
      "    1.74767302]\n",
      " [-10.5072882    0.24792056 -17.73235222 ...   8.12536544   6.25131037\n",
      "    1.74767302]] mmag [[20.58277848 19.69645076 20.41723747 ... 20.0600265  20.76437529\n",
      "  17.09702533]\n",
      " [20.58277848 19.69645076 20.41723747 ... 20.0600265  20.76437529\n",
      "  17.09702533]\n",
      " [20.58277848 19.69645076 20.41723747 ... 20.0600265  20.76437529\n",
      "  17.09702533]\n",
      " ...\n",
      " [20.58277848 19.69645076 20.41723747 ... 20.0600265  20.76437529\n",
      "  17.09702533]\n",
      " [20.58277848 19.69645076 20.41723747 ... 20.0600265  20.76437529\n",
      "  17.09702533]\n",
      " [20.58277848 19.69645076 20.41723747 ... 20.0600265  20.76437529\n",
      "  17.09702533]] mag\n",
      "pa1 repeatability: 13.820912720667566 mmag\n"
     ]
    }
   ],
   "source": [
    "# PA1 \n",
    "metric_name = \"PA1\"\n",
    "band = 'i'\n",
    "\n",
    "# Configuration \n",
    "\"Minimum median SNR for a source to be considered bright.\"\n",
    "brightSnrMin = 50\n",
    "\n",
    "\"Maximum median SNR for a source to be considered bright.\"\n",
    "brightSnrMax = np.inf\n",
    "\n",
    "\"Number of trials used for random sampling of observation pairs.\"\n",
    "numRandomShuffles = 50\n",
    "\n",
    "\"Random seed for sampling.\"\n",
    "randomSeed = 12345\n",
    "\n",
    "print(\"Measuring \"+ metric_name + \" band: \" + band)\n",
    "pa1 = photRepeat(catalog_pa1_i, snrMax=brightSnrMax, snrMin=brightSnrMin, \n",
    "                 numRandomShuffles=numRandomShuffles, randomSeed=randomSeed)\n",
    "\n",
    "if not 'magDiff' in pa1.keys():\n",
    "    print(\"Mag diff nor computed\")\n",
    "else:\n",
    "    assert pa1['repeatability'].value == 13.820912720667566, \"Wrong value\"\n",
    "    print(\"pa1 repeatability: \" + str(pa1['repeatability']))\n",
    "\n"
   ]
  },
  {
   "cell_type": "code",
   "execution_count": null,
   "metadata": {},
   "outputs": [],
   "source": []
  },
  {
   "cell_type": "code",
   "execution_count": null,
   "metadata": {},
   "outputs": [],
   "source": [
    "# PA1 expected - PA1_expected_0_i.yaml, PA1_expected_0_r.yaml"
   ]
  },
  {
   "cell_type": "markdown",
   "metadata": {},
   "source": [
    "# AD / AF"
   ]
  },
  {
   "cell_type": "code",
   "execution_count": 162,
   "metadata": {},
   "outputs": [
    {
     "name": "stdout",
     "output_type": "stream",
     "text": [
      "[ 5.5  2.5  4.5  6.5  2.5  4.5  7.5 11.5  1.5  1.5] marcsec\n",
      "1.5 marcsec\n"
     ]
    }
   ],
   "source": [
    "sepDistances = np.array([20, 17,19,21,12,10,7,3,13,16])\n",
    "absDiffsMarcsec = np.abs((sepDistances-np.median(sepDistances))) * u.marcsec\n",
    "print(absDiffsMarcsec)\n",
    "afPercentile = 0.1\n",
    "pctl = np.percentile(absDiffsMarcsec.value, afPercentile)*u.marcsec\n",
    "print(pctl)"
   ]
  },
  {
   "cell_type": "code",
   "execution_count": null,
   "metadata": {},
   "outputs": [],
   "source": []
  }
 ],
 "metadata": {
  "kernelspec": {
   "display_name": "LSST",
   "language": "python",
   "name": "lsst"
  },
  "language_info": {
   "codemirror_mode": {
    "name": "ipython",
    "version": 3
   },
   "file_extension": ".py",
   "mimetype": "text/x-python",
   "name": "python",
   "nbconvert_exporter": "python",
   "pygments_lexer": "ipython3",
   "version": "3.10.5"
  }
 },
 "nbformat": 4,
 "nbformat_minor": 4
}
