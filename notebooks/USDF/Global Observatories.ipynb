{
 "cells": [
  {
   "cell_type": "markdown",
   "id": "a0788f77-774c-4345-9157-113d4282794c",
   "metadata": {},
   "source": [
    "## Map of all observatories globally"
   ]
  },
  {
   "cell_type": "code",
   "execution_count": 3,
   "id": "4ae83d72-25bd-46a3-8100-9b2394106ed8",
   "metadata": {},
   "outputs": [],
   "source": [
    "import pandas as pd\n",
    "import geopandas as gpd\n",
    "import geoviews as gv\n",
    "import geoviews.feature as gf\n",
    "from geoviews import opts\n",
    "from cartopy import crs \n",
    "import geoviews.tile_sources as gts"
   ]
  },
  {
   "cell_type": "code",
   "execution_count": 4,
   "id": "3f0f60fa-dc4e-4389-ae4d-f59a03f1fcff",
   "metadata": {},
   "outputs": [
    {
     "ename": "SyntaxError",
     "evalue": "invalid character '‘' (U+2018) (3719391145.py, line 1)",
     "output_type": "error",
     "traceback": [
      "\u001b[0;36m  Input \u001b[0;32mIn [4]\u001b[0;36m\u001b[0m\n\u001b[0;31m    gv.extension(‘bokeh’)\u001b[0m\n\u001b[0m                 ^\u001b[0m\n\u001b[0;31mSyntaxError\u001b[0m\u001b[0;31m:\u001b[0m invalid character '‘' (U+2018)\n"
     ]
    }
   ],
   "source": [
    "gv.extension(‘bokeh’)"
   ]
  },
  {
   "cell_type": "code",
   "execution_count": 8,
   "id": "5d3ac924-35ed-4ff7-9472-cb2f15bb3783",
   "metadata": {},
   "outputs": [
    {
     "data": {
      "text/html": [
       "<div>\n",
       "<style scoped>\n",
       "    .dataframe tbody tr th:only-of-type {\n",
       "        vertical-align: middle;\n",
       "    }\n",
       "\n",
       "    .dataframe tbody tr th {\n",
       "        vertical-align: top;\n",
       "    }\n",
       "\n",
       "    .dataframe thead th {\n",
       "        text-align: right;\n",
       "    }\n",
       "</style>\n",
       "<table border=\"1\" class=\"dataframe\">\n",
       "  <thead>\n",
       "    <tr style=\"text-align: right;\">\n",
       "      <th></th>\n",
       "      <th>name</th>\n",
       "      <th>lat</th>\n",
       "      <th>lon</th>\n",
       "    </tr>\n",
       "  </thead>\n",
       "  <tbody>\n",
       "    <tr>\n",
       "      <th>0</th>\n",
       "      <td>Rubin</td>\n",
       "      <td>10</td>\n",
       "      <td>10</td>\n",
       "    </tr>\n",
       "    <tr>\n",
       "      <th>1</th>\n",
       "      <td>A</td>\n",
       "      <td>15</td>\n",
       "      <td>20</td>\n",
       "    </tr>\n",
       "    <tr>\n",
       "      <th>2</th>\n",
       "      <td>B</td>\n",
       "      <td>14</td>\n",
       "      <td>20</td>\n",
       "    </tr>\n",
       "  </tbody>\n",
       "</table>\n",
       "</div>"
      ],
      "text/plain": [
       "    name  lat  lon\n",
       "0  Rubin   10   10\n",
       "1      A   15   20\n",
       "2      B   14   20"
      ]
     },
     "execution_count": 8,
     "metadata": {},
     "output_type": "execute_result"
    }
   ],
   "source": [
    "# test data - eventuallt this will be in a file to be read in \n",
    "data = [['Rubin', 10, 10], ['A', 15, 20], ['B', 14, 20]]\n",
    "\n",
    "# Rubin: latitude -30:14:40.68 longitude -70:44:57.90. Altitude: 2647m\n",
    "# Gemmini \n",
    "df = pd.DataFrame(data, columns=['name', 'latitude', 'longitude', 'altitude'])\n",
    "df"
   ]
  },
  {
   "cell_type": "code",
   "execution_count": 9,
   "id": "e56c73fd-83b9-49a1-bbdd-c0182b5a3901",
   "metadata": {},
   "outputs": [],
   "source": [
    "from astropy.coordinates import EarthLocation as el"
   ]
  },
  {
   "cell_type": "code",
   "execution_count": 11,
   "id": "afc2e943-72d2-469d-9267-f38561235f71",
   "metadata": {},
   "outputs": [],
   "source": [
    "#el.get_site_names()"
   ]
  },
  {
   "cell_type": "code",
   "execution_count": 12,
   "id": "fba2fe14-568d-4028-9402-3144e51b3442",
   "metadata": {},
   "outputs": [],
   "source": [
    "keck = el.of_site('Keck Observatory')"
   ]
  },
  {
   "cell_type": "code",
   "execution_count": 13,
   "id": "1c574e62-ca8c-4459-a367-ba61c8553ad4",
   "metadata": {},
   "outputs": [
    {
     "data": {
      "text/plain": [
       "GeodeticLocation(lon=<Longitude -155.47833333 deg>, lat=<Latitude 19.82833333 deg>, height=<Quantity 4160. m>)"
      ]
     },
     "execution_count": 13,
     "metadata": {},
     "output_type": "execute_result"
    }
   ],
   "source": [
    "keck.geodetic  "
   ]
  },
  {
   "cell_type": "code",
   "execution_count": 14,
   "id": "ff7f54d1-ffdf-42f2-b7dd-d6fbcf695def",
   "metadata": {},
   "outputs": [
    {
     "data": {
      "text/plain": [
       "name = W. M. Keck Observatory\n",
       "dtype = (float64, float64, float64)\n",
       "unit = m\n",
       "class = EarthLocation\n",
       "n_bad = 0"
      ]
     },
     "execution_count": 14,
     "metadata": {},
     "output_type": "execute_result"
    }
   ],
   "source": [
    "keck.info"
   ]
  },
  {
   "cell_type": "code",
   "execution_count": 15,
   "id": "e02aeb46-8170-4e92-88c2-c88b229e6258",
   "metadata": {},
   "outputs": [
    {
     "data": {
      "text/plain": [
       "{'source': 'IRAF Observatory Database', 'timezone': 'US/Hawaii'}"
      ]
     },
     "execution_count": 15,
     "metadata": {},
     "output_type": "execute_result"
    }
   ],
   "source": [
    "keck.info.meta"
   ]
  },
  {
   "cell_type": "code",
   "execution_count": 18,
   "id": "98b381e2-d608-4aff-a635-45699db3796a",
   "metadata": {},
   "outputs": [
    {
     "data": {
      "text/plain": [
       "GeodeticLocation(lon=<Longitude -155.47833333 deg>, lat=<Latitude 19.82833333 deg>, height=<Quantity 4160. m>)"
      ]
     },
     "execution_count": 18,
     "metadata": {},
     "output_type": "execute_result"
    }
   ],
   "source": [
    "keck.to_geodetic()"
   ]
  },
  {
   "cell_type": "code",
   "execution_count": null,
   "id": "8737630a-4ed0-476e-9afd-2e7793d3188d",
   "metadata": {},
   "outputs": [],
   "source": []
  }
 ],
 "metadata": {
  "kernelspec": {
   "display_name": "LSST",
   "language": "python",
   "name": "lsst"
  },
  "language_info": {
   "codemirror_mode": {
    "name": "ipython",
    "version": 3
   },
   "file_extension": ".py",
   "mimetype": "text/x-python",
   "name": "python",
   "nbconvert_exporter": "python",
   "pygments_lexer": "ipython3",
   "version": "3.10.5"
  }
 },
 "nbformat": 4,
 "nbformat_minor": 5
}
