{
 "cells": [
  {
   "cell_type": "markdown",
   "id": "878ef3d3",
   "metadata": {},
   "source": [
    "# Find the coordinates of the Qserv shards "
   ]
  },
  {
   "cell_type": "code",
   "execution_count": 2,
   "id": "8b3e1849",
   "metadata": {},
   "outputs": [],
   "source": [
    "# LSST science pipelines \n",
    "from lsst.sphgeom import Box, Chunker, LonLat, NormalizedAngle, Angle, UnitVector3d\n",
    "from math import *\n",
    "\n",
    "# General python imports\n",
    "import numpy as np\n",
    "\n",
    "# Astropy\n",
    "from astropy import units as u\n",
    "from astropy.coordinates import SkyCoord"
   ]
  },
  {
   "cell_type": "code",
   "execution_count": 3,
   "id": "264bfe6b",
   "metadata": {},
   "outputs": [],
   "source": [
    "def chunker(coord): \n",
    "    \n",
    "    '''\n",
    "    Input is an astropy sky coord\n",
    "    '''\n",
    "    \n",
    "    # Get an sphgeom region representing a point of interest with coverage in DP0.1 DC2 dataset\n",
    "    #somePointInDC2 = Box(LonLat.fromDegrees(60.0, -30.0))\n",
    "    somePointInDC2 = Box(LonLat.fromDegrees(coord.ra.value, coord.dec.value))\n",
    "    \n",
    "\n",
    "    # Use sphgeom \"chunker\" to find chunk parameters for chunk containing the point of interest\n",
    "    # Chunker construction arguments (stipes, substripes) are the partitioning parameters\n",
    "    # used when the data was ingested into Qserv\n",
    "    chunker = Chunker(numStripes=340, numSubStripesPerStripe=3)\n",
    "    chunk = chunker.getChunksIntersecting(somePointInDC2)[0]\n",
    "\n",
    "    # Use chunker to retrieve (spherical) bounding box for the identified chunk.\n",
    "    stripe = chunker.getStripe(chunk)\n",
    "    chunkInStripe = chunker.getChunk(chunk, stripe)\n",
    "    bounds = chunker.getChunkBoundingBox(stripe, chunkInStripe)\n",
    "\n",
    "    # Extract center and radius from bounding box.  \n",
    "    # Radius is half the minimum of box height and box width\n",
    "    center = bounds.getCenter()\n",
    "    \n",
    "    # coords = center.getLon().asDegrees(), center.getLat().asDegrees()\n",
    "    radius = min(bounds.getHeight().asDegrees(), bounds.getWidth().asDegrees()) / 2.0\n",
    "    \n",
    "    box_coords = SkyCoord(center.getLon().asDegrees(),\n",
    "                          center.getLat().asDegrees(),\n",
    "                          unit=\"deg\")\n",
    "    return box_coords, radius"
   ]
  },
  {
   "cell_type": "code",
   "execution_count": 7,
   "id": "3b2ae69a",
   "metadata": {},
   "outputs": [],
   "source": [
    "def deviation(ra1, ra2: NormalizedAngle, dec: Angle) -> Angle:\n",
    "    '''\n",
    "    Return maximum deviation in declination between great circle and \n",
    "    constant-declination arcs between points ra1,dec and ra2,dec\n",
    "    '''\n",
    "    \n",
    "    v1 = UnitVector3d(ra1, dec)\n",
    "    v2 = UnitVector3d(ra2, dec)\n",
    "    normal = UnitVector3d(v1.cross(v2))\n",
    "    halfAngle = Angle(acos(v1.dot(v2))/2)\n",
    "    mid = v1.rotatedAround(normal, halfAngle)\n",
    "    return LonLat(mid).getLat()-dec"
   ]
  },
  {
   "cell_type": "code",
   "execution_count": 4,
   "id": "d8074d44",
   "metadata": {},
   "outputs": [
    {
     "name": "stdout",
     "output_type": "stream",
     "text": [
      "<SkyCoord (ICRS): (ra, dec) in deg\n",
      "    (59.7955707, -29.91176471)>\n"
     ]
    }
   ],
   "source": [
    "#test_coord = SkyCoord(60.0, -30.0, unit=\"deg\")\n",
    "test_coord = SkyCoord(59.7955707, -29.91176471, unit=\"deg\")\n",
    "print(test_coord)"
   ]
  },
  {
   "cell_type": "code",
   "execution_count": 6,
   "id": "6178517f",
   "metadata": {},
   "outputs": [
    {
     "name": "stdout",
     "output_type": "stream",
     "text": [
      "center: <SkyCoord (ICRS): (ra, dec) in deg\n",
      "    (59.7955707, -29.91176471)>, radius: 0.26470588263941935 deg\n"
     ]
    }
   ],
   "source": [
    "# Expect \n",
    "# center: <SkyCoord (ICRS): (ra, dec) in deg\n",
    "# (59.7955707, -29.91176471)>, radius: 0.26470588263941935 deg\n",
    "        \n",
    "box_centre_coord, radius = chunker(test_coord)\n",
    "print(f\"center: {box_centre_coord}, radius: {radius}\", \"deg\")"
   ]
  },
  {
   "cell_type": "code",
   "execution_count": 10,
   "id": "46d93041",
   "metadata": {},
   "outputs": [
    {
     "name": "stdout",
     "output_type": "stream",
     "text": [
      "<SkyCoord (ICRS): (ra, dec) in deg\n",
      "    (59.53086482, -29.64705882)> \n",
      " <SkyCoord (ICRS): (ra, dec) in deg\n",
      "    (60.06027658, -29.64705882)> \n",
      " <SkyCoord (ICRS): (ra, dec) in deg\n",
      "    (59.53086482, -30.17647059)> \n",
      " <SkyCoord (ICRS): (ra, dec) in deg\n",
      "    (60.06027658, -30.17647059)>\n"
     ]
    }
   ],
   "source": [
    "#Polygon coords \n",
    "c1 = SkyCoord(box_centre_coord.ra.value - radius, box_centre_coord.dec.value + radius, unit=\"deg\")\n",
    "c2 = SkyCoord(box_centre_coord.ra.value + radius, box_centre_coord.dec.value + radius, unit=\"deg\")\n",
    "c3 = SkyCoord(box_centre_coord.ra.value - radius, box_centre_coord.dec.value - radius, unit=\"deg\")\n",
    "c4 = SkyCoord(box_centre_coord.ra.value + radius, box_centre_coord.dec.value - radius, unit=\"deg\")\n",
    "print(c1, \"\\n\", c2, \"\\n\", c3, \"\\n\", c4)"
   ]
  },
  {
   "cell_type": "code",
   "execution_count": 108,
   "id": "ac741386",
   "metadata": {},
   "outputs": [],
   "source": [
    "# Get an sphgeom region representing a point of interest with coverage in \n",
    "# DP0.1 DC2 dataset\n",
    "somePointInDC2 = Box(LonLat.fromDegrees(test_coord.ra.value, test_coord.dec.value))\n",
    "#somePointInDC2 = Box(LonLat.fromDegrees(60.0, -30.0))\n",
    "\n",
    "# Use sphgeom \"chunker\" to find chunk parameters for chunk containing the\n",
    "# point of interest.  Chunker construction arguments (stipes, substripes)\n",
    "# are the partitioning parameters used when the data was ingested into Qserv\n",
    "chunker = Chunker(numStripes=340, numSubStripesPerStripe=3)\n",
    "chunk = chunker.getChunksIntersecting(somePointInDC2)[0]\n",
    "\n",
    "# Use chunker to retrieve lon/lat bounding box for the identified chunk\n",
    "stripe = chunker.getStripe(chunk)\n",
    "chunkInStripe = chunker.getChunk(chunk, stripe)\n",
    "bounds = chunker.getChunkBoundingBox(stripe, chunkInStripe)\n",
    "\n",
    "# Get corner coordinates of boounds\n",
    "ra1 = bounds.getLon().getA()\n",
    "ra2 = bounds.getLon().getB()\n",
    "dec1 = bounds.getLat().getA()\n",
    "dec2 = bounds.getLat().getB()\n",
    "\n",
    "# Trim top and bottom declination if necessary to accomodate deviation between\n",
    "# box and spherical polygon\n",
    "dec1 -= deviation(ra1, ra2, dec1) if (dec1 < Angle(0)) else Angle(0)\n",
    "dec2 -= deviation(ra1, ra2, dec2) if (dec2 > Angle(0)) else Angle(0)\n",
    "\n",
    "# Trim all coords additional small amount to avoid contact with chunk\n",
    "# boundaries\n",
    "epsilon = Angle(1e-9)\n",
    "#epsilon = Angle(1e-07)\n",
    "ra1 = NormalizedAngle(ra1 + epsilon)\n",
    "ra2 = NormalizedAngle(ra2 - epsilon)\n",
    "dec1 = dec1 + epsilon\n",
    "dec2 = dec2 - epsilon\n",
    "\n",
    "# Construct example ADQL query with CONTAINS(POINT,POLYGON) constraint to\n",
    "# operate within the box "
   ]
  },
  {
   "cell_type": "code",
   "execution_count": 109,
   "id": "f796fa41",
   "metadata": {},
   "outputs": [
    {
     "name": "stdout",
     "output_type": "stream",
     "text": [
      "59.48893247541351, -30.176108281372347, 60.10220892152004, -30.176108281372347, 60.10220892152004, -29.647064552820886, 59.48893247541351, -29.647064552820886\n"
     ]
    }
   ],
   "source": [
    "pg_coords = c = f'{ra1.asDegrees(), dec1.asDegrees(), ra2.asDegrees(), dec1.asDegrees(), ra2.asDegrees(), dec2.asDegrees(), ra1.asDegrees(), dec2.asDegrees()}'.strip(\"()\")\n",
    "print(pg_coords)"
   ]
  },
  {
   "cell_type": "code",
   "execution_count": 111,
   "id": "ab773dc4",
   "metadata": {},
   "outputs": [
    {
     "name": "stdout",
     "output_type": "stream",
     "text": [
      "SELECT COUNT(*) FROM dp01_dc2_catalogs.object WHERE CONTAINS(POINT('ICRS', ra, dec), POLYGON('ICRS',59.48893247541351, -30.176108281372347, 60.10220892152004, -30.176108281372347, 60.10220892152004, -29.647064552820886, 59.48893247541351, -29.647064552820886))=1\n"
     ]
    }
   ],
   "source": [
    "query = f\"SELECT COUNT(*) FROM dp01_dc2_catalogs.object \"\\\n",
    "        \"WHERE CONTAINS(POINT('ICRS', ra, dec), POLYGON('ICRS',\" \\\n",
    "        + pg_coords + \"))=1\"\n",
    "print(query)"
   ]
  },
  {
   "cell_type": "code",
   "execution_count": null,
   "id": "d2173e99",
   "metadata": {},
   "outputs": [],
   "source": [
    "# expected = 141419"
   ]
  }
 ],
 "metadata": {
  "kernelspec": {
   "display_name": "LSST",
   "language": "python",
   "name": "lsst"
  },
  "language_info": {
   "codemirror_mode": {
    "name": "ipython",
    "version": 3
   },
   "file_extension": ".py",
   "mimetype": "text/x-python",
   "name": "python",
   "nbconvert_exporter": "python",
   "pygments_lexer": "ipython3",
   "version": "3.8.8"
  }
 },
 "nbformat": 4,
 "nbformat_minor": 5
}
