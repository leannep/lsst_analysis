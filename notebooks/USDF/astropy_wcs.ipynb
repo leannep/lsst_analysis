{
 "cells": [
  {
   "cell_type": "code",
   "execution_count": 35,
   "id": "4c312014",
   "metadata": {},
   "outputs": [],
   "source": [
    "import galsim\n",
    "import numpy as np\n",
    "import astropy\n",
    "from astropy.wcs import WCS\n",
    "\n",
    "import lsst.daf.base as dafBase\n",
    "from lsst.daf.base import PropertyList\n",
    "import lsst.geom\n",
    "from lsst.afw.fits import makeLimitedFitsHeader\n",
    "from lsst.afw.geom import createTrivialWcsMetadata, deleteBasicWcsMetadata, \\\n",
    "    getCdMatrixFromMetadata, getSipMatrixFromMetadata, getImageXY0FromMetadata, \\\n",
    "    hasSipMatrix, makeSipMatrixMetadata, makeTanSipMetadata, \\\n",
    "    computePixelToDistortedPixel, makeSkyWcs"
   ]
  },
  {
   "cell_type": "code",
   "execution_count": null,
   "id": "532744ff-453c-4e74-a2fb-351bd1e84fb4",
   "metadata": {},
   "outputs": [],
   "source": [
    "# from tests/test_hpxUtils.py, test_methods.py"
   ]
  },
  {
   "cell_type": "code",
   "execution_count": 17,
   "id": "01474dd8-6b6f-4a4a-97a7-dbe5198c11b5",
   "metadata": {},
   "outputs": [],
   "source": [
    "ctrPix = lsst.geom.Point2I(1500, 1500)\n",
    "metadata = dafBase.PropertySet()\n",
    "metadata.set(\"RADESYS\", \"FK5\")\n",
    "metadata.set(\"EQUINOX\", 2000.0)\n",
    "metadata.set(\"CTYPE1\", \"RA---TAN\")\n",
    "metadata.set(\"CTYPE2\", \"DEC--TAN\")\n",
    "metadata.set(\"CUNIT1\", \"deg\")\n",
    "metadata.set(\"CUNIT2\", \"deg\")\n",
    "metadata.set(\"CRVAL1\", 215.5)\n",
    "metadata.set(\"CRVAL2\", 53.0)\n",
    "metadata.set(\"CRPIX1\", ctrPix[0] + 1)\n",
    "metadata.set(\"CRPIX2\", ctrPix[1] + 1)\n",
    "metadata.set(\"CD1_1\", 5.1e-05)\n",
    "metadata.set(\"CD1_2\", 0.0)\n",
    "metadata.set(\"CD2_2\", -5.1e-05)\n",
    "metadata.set(\"CD2_1\", 0.0)\n",
    "wcs0 = makeSkyWcs(metadata, strip=False)"
   ]
  },
  {
   "cell_type": "code",
   "execution_count": 18,
   "id": "73271641-5572-4351-92b6-ef763d165f7e",
   "metadata": {},
   "outputs": [],
   "source": [
    "astropy_wcs = WCS(header=wcs0.getFitsMetadata().toDict())"
   ]
  },
  {
   "cell_type": "code",
   "execution_count": 38,
   "id": "922252f3-0ace-4aa3-b0c1-bbdfee71afb9",
   "metadata": {},
   "outputs": [],
   "source": [
    "hips_order = 11  # (nside=2048) gives 0.2\" pixels for 512 subpixels\n",
    "shift_order = 9  # 2**9=512 pixels on a side. \n",
    "nside = 2**hips_order\n",
    "nsubpix = 2**shift_order\n",
    "y, x = np.meshgrid(np.arange(nsubpix), np.arange(nsubpix))\n",
    "x = x.ravel().astype(np.float64)\n",
    "y = y.ravel().astype(np.float64)\n"
   ]
  },
  {
   "cell_type": "code",
   "execution_count": 39,
   "id": "5fe767ae-3517-4790-ab89-a98fa587ea2c",
   "metadata": {},
   "outputs": [],
   "source": [
    "astropy_coords = astropy_wcs.pixel_to_world(x, y)"
   ]
  },
  {
   "cell_type": "code",
   "execution_count": 45,
   "id": "87294f11-1dd4-4cb9-89b2-2bcea0b47be9",
   "metadata": {},
   "outputs": [
    {
     "data": {
      "text/html": [
       "<div><i>QTable length=262144</i>\n",
       "<table id=\"table139621205330768\" class=\"table-striped table-bordered table-condensed\">\n",
       "<thead><tr><th>ra</th><th>dec</th></tr></thead>\n",
       "<thead><tr><th>deg</th><th>deg</th></tr></thead>\n",
       "<thead><tr><th>float64</th><th>float64</th></tr></thead>\n",
       "<tr><td>215.37266069516176</td><td>53.076430854512</td></tr>\n",
       "<tr><td>215.37266084583177</td><td>53.076379854728636</td></tr>\n",
       "<tr><td>215.37266099650142</td><td>53.07632885494514</td></tr>\n",
       "<tr><td>215.3726611471707</td><td>53.07627785516156</td></tr>\n",
       "<tr><td>215.37266129783964</td><td>53.07622685537782</td></tr>\n",
       "<tr><td>215.3726614485082</td><td>53.07617585559399</td></tr>\n",
       "<tr><td>215.37266159917644</td><td>53.07612485581001</td></tr>\n",
       "<tr><td>215.37266174984433</td><td>53.076073856025914</td></tr>\n",
       "<tr><td>215.37266190051182</td><td>53.076022856241714</td></tr>\n",
       "<tr><td>...</td><td>...</td></tr>\n",
       "<tr><td>215.41609124974198</td><td>53.05086732654193</td></tr>\n",
       "<tr><td>215.4160913489611</td><td>53.05081632663678</td></tr>\n",
       "<tr><td>215.41609144817997</td><td>53.05076532673152</td></tr>\n",
       "<tr><td>215.4160915473986</td><td>53.0507143268262</td></tr>\n",
       "<tr><td>215.41609164661702</td><td>53.05066332692081</td></tr>\n",
       "<tr><td>215.41609174583516</td><td>53.05061232701534</td></tr>\n",
       "<tr><td>215.4160918450531</td><td>53.050561327109776</td></tr>\n",
       "<tr><td>215.4160919442708</td><td>53.05051032720412</td></tr>\n",
       "<tr><td>215.41609204348825</td><td>53.050459327298405</td></tr>\n",
       "<tr><td>215.4160921427055</td><td>53.050408327392596</td></tr>\n",
       "</table></div>"
      ],
      "text/plain": [
       "<QTable length=262144>\n",
       "        ra                dec        \n",
       "       deg                deg        \n",
       "     float64            float64      \n",
       "------------------ ------------------\n",
       "215.37266069516176    53.076430854512\n",
       "215.37266084583177 53.076379854728636\n",
       "215.37266099650142  53.07632885494514\n",
       " 215.3726611471707  53.07627785516156\n",
       "215.37266129783964  53.07622685537782\n",
       " 215.3726614485082  53.07617585559399\n",
       "215.37266159917644  53.07612485581001\n",
       "215.37266174984433 53.076073856025914\n",
       "215.37266190051182 53.076022856241714\n",
       "               ...                ...\n",
       "215.41609124974198  53.05086732654193\n",
       " 215.4160913489611  53.05081632663678\n",
       "215.41609144817997  53.05076532673152\n",
       " 215.4160915473986   53.0507143268262\n",
       "215.41609164661702  53.05066332692081\n",
       "215.41609174583516  53.05061232701534\n",
       " 215.4160918450531 53.050561327109776\n",
       " 215.4160919442708  53.05051032720412\n",
       "215.41609204348825 53.050459327298405\n",
       " 215.4160921427055 53.050408327392596"
      ]
     },
     "execution_count": 45,
     "metadata": {},
     "output_type": "execute_result"
    }
   ],
   "source": [
    "astropy_coords.to_table()"
   ]
  },
  {
   "cell_type": "code",
   "execution_count": 33,
   "id": "df789733-e874-4f80-b5ef-742a08dee314",
   "metadata": {},
   "outputs": [],
   "source": [
    "# Setup metedata \n",
    "metadata = PropertyList()\n",
    "for name, value in (\n",
    "    (\"RADESYS\", \"ICRS\"),\n",
    "    (\"EQUINOX\", 2000.),\n",
    "    (\"CRVAL1\", 215.604025685476),\n",
    "    (\"CRVAL2\", 53.1595451514076),\n",
    "    (\"CRPIX1\", 1109.99981456774),\n",
    "    (\"CRPIX2\", 560.018167811613),\n",
    "    (\"CTYPE1\", \"RA---TAN\"),\n",
    "    (\"CTYPE2\", \"DEC--TAN\"),\n",
    "    (\"CUNIT1\", \"deg\"),\n",
    "    (\"CUNIT2\", \"deg\"),\n",
    "    (\"CD1_1\", 5.10808596133527E-05),\n",
    "    (\"CD1_2\", 1.85579539217196E-07),\n",
    "    (\"CD2_2\", -5.10281493481982E-05),\n",
    "    (\"CD2_1\", -1.85579539217196E-07),\n",
    "):\n",
    "    metadata.set(name, value)"
   ]
  },
  {
   "cell_type": "code",
   "execution_count": null,
   "id": "a0f190a8-467e-48b4-815b-3f8221aedf7b",
   "metadata": {},
   "outputs": [],
   "source": []
  },
  {
   "cell_type": "code",
   "execution_count": 36,
   "id": "61e1925b-faca-43d8-9f37-6fe60c4f06a9",
   "metadata": {},
   "outputs": [],
   "source": [
    "skyWcs = makeSkyWcs(metadata, strip=False)\n",
    "header = makeLimitedFitsHeader(metadata)\n",
    "astropyWcs = astropy.wcs.WCS(header)"
   ]
  }
 ],
 "metadata": {
  "kernelspec": {
   "display_name": "LSST",
   "language": "python",
   "name": "lsst"
  },
  "language_info": {
   "codemirror_mode": {
    "name": "ipython",
    "version": 3
   },
   "file_extension": ".py",
   "mimetype": "text/x-python",
   "name": "python",
   "nbconvert_exporter": "python",
   "pygments_lexer": "ipython3",
   "version": "3.8.12"
  }
 },
 "nbformat": 4,
 "nbformat_minor": 5
}
