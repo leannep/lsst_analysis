{
 "cells": [
  {
   "cell_type": "markdown",
   "id": "5d03d68a",
   "metadata": {},
   "source": [
    "# Alert database client test \n",
    "\n",
    "Examples from https://github.com/lsst-dm/alert_database_client/"
   ]
  },
  {
   "cell_type": "code",
   "execution_count": 2,
   "id": "9a7877bc",
   "metadata": {},
   "outputs": [
    {
     "ename": "ModuleNotFoundError",
     "evalue": "No module named 'lsst.alert.database'",
     "output_type": "error",
     "traceback": [
      "\u001b[0;31m---------------------------------------------------------------------------\u001b[0m",
      "\u001b[0;31mModuleNotFoundError\u001b[0m                       Traceback (most recent call last)",
      "Input \u001b[0;32mIn [2]\u001b[0m, in \u001b[0;36m<cell line: 1>\u001b[0;34m()\u001b[0m\n\u001b[0;32m----> 1\u001b[0m \u001b[38;5;28;01mfrom\u001b[39;00m \u001b[38;5;21;01mlsst\u001b[39;00m\u001b[38;5;21;01m.\u001b[39;00m\u001b[38;5;21;01malert\u001b[39;00m\u001b[38;5;21;01m.\u001b[39;00m\u001b[38;5;21;01mdatabase\u001b[39;00m\u001b[38;5;21;01m.\u001b[39;00m\u001b[38;5;21;01mclient\u001b[39;00m \u001b[38;5;28;01mimport\u001b[39;00m Client\n",
      "\u001b[0;31mModuleNotFoundError\u001b[0m: No module named 'lsst.alert.database'"
     ]
    }
   ],
   "source": [
    "from lsst.alert.database.client import Client"
   ]
  },
  {
   "cell_type": "code",
   "execution_count": null,
   "id": "4a9c0475",
   "metadata": {},
   "outputs": [],
   "source": [
    "client = Client(\"https://alert-db.lsst.codes\")  # not actually running right now\n",
    "alert_packet = client.get_alert(831241028)\n",
    "\n",
    "for prv_source in alert_packet[\"prvDiaSources\"]:\n",
    "    ra, dec = prv_source[\"ra\"], prv_source[\"decl\"]\n",
    "    print(ra, dec)"
   ]
  },
  {
   "cell_type": "markdown",
   "id": "3096a290",
   "metadata": {},
   "source": [
    "###  Or "
   ]
  },
  {
   "cell_type": "code",
   "execution_count": 2,
   "id": "5fd1eeb0",
   "metadata": {},
   "outputs": [
    {
     "ename": "ModuleNotFoundError",
     "evalue": "No module named 'lsst.alert.database'",
     "output_type": "error",
     "traceback": [
      "\u001b[0;31m---------------------------------------------------------------------------\u001b[0m",
      "\u001b[0;31mModuleNotFoundError\u001b[0m                       Traceback (most recent call last)",
      "\u001b[0;32m<ipython-input-2-ef65ed630f27>\u001b[0m in \u001b[0;36m<module>\u001b[0;34m\u001b[0m\n\u001b[1;32m      3\u001b[0m \u001b[0;32mimport\u001b[0m \u001b[0mio\u001b[0m\u001b[0;34m\u001b[0m\u001b[0;34m\u001b[0m\u001b[0m\n\u001b[1;32m      4\u001b[0m \u001b[0;34m\u001b[0m\u001b[0m\n\u001b[0;32m----> 5\u001b[0;31m \u001b[0;32mfrom\u001b[0m \u001b[0mlsst\u001b[0m\u001b[0;34m.\u001b[0m\u001b[0malert\u001b[0m\u001b[0;34m.\u001b[0m\u001b[0mdatabase\u001b[0m\u001b[0;34m.\u001b[0m\u001b[0mclient\u001b[0m \u001b[0;32mimport\u001b[0m \u001b[0mClient\u001b[0m\u001b[0;34m\u001b[0m\u001b[0;34m\u001b[0m\u001b[0m\n\u001b[0m",
      "\u001b[0;31mModuleNotFoundError\u001b[0m: No module named 'lsst.alert.database'"
     ]
    }
   ],
   "source": [
    "import json\n",
    "import fastavro\n",
    "import io\n",
    "\n",
    "from lsst.alert.database.client import Client"
   ]
  },
  {
   "cell_type": "code",
   "execution_count": null,
   "id": "36217f35",
   "metadata": {},
   "outputs": [],
   "source": [
    "client = Client(\"https://alert-db.lsst.codes\")  # not actually running right now\n",
    "\n",
    "alert_bytes = client.get_raw_alert_bytes(831241028)\n",
    "\n",
    "header, body = alert_bytes[:5], alert_bytes[5:]\n",
    "schema_id = int.from_bytes(header[1:5], byteorder=\"big\")\n",
    "\n",
    "schema_bytes = client.get_schema(schema_id)\n",
    "\n",
    "schema = fastavro.parse(json.loads(schema_bytes))\n",
    "alert = fastavro.schemaless_reader(io.BytesIO(body, schema))"
   ]
  }
 ],
 "metadata": {
  "kernelspec": {
   "display_name": "LSST",
   "language": "python",
   "name": "lsst"
  },
  "language_info": {
   "codemirror_mode": {
    "name": "ipython",
    "version": 3
   },
   "file_extension": ".py",
   "mimetype": "text/x-python",
   "name": "python",
   "nbconvert_exporter": "python",
   "pygments_lexer": "ipython3",
   "version": "3.10.5"
  }
 },
 "nbformat": 4,
 "nbformat_minor": 5
}
