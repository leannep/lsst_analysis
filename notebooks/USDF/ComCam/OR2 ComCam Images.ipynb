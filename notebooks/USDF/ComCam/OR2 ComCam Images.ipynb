{
 "cells": [
  {
   "cell_type": "markdown",
   "metadata": {},
   "source": [
    "# Plotting the OR2 ComCam Images\n",
    "<br>Owner: **Leanne Guy** ([@leannep](https://github.com/LSSTDESC/DC2-analysis/issues/new?body=@leannep))\n",
    "<br>Last Verified to Run: **2020-07-27** (by @leannp)\n",
    "<br>Verified Stack Release: **v20.0.0** (need to change to w30)\n",
    "\n",
    "This notbook dispalys and analyses the ComCam images from OR2\n",
    "\n",
    "## Set Up"
   ]
  },
  {
   "cell_type": "code",
   "execution_count": null,
   "metadata": {},
   "outputs": [],
   "source": [
    "# What version of the Stack am I using?\n",
    "! echo $HOSTNAME\n",
    "! eups list | grep lsst_distrib"
   ]
  },
  {
   "cell_type": "markdown",
   "metadata": {},
   "source": [
    "### Set up "
   ]
  },
  {
   "cell_type": "code",
   "execution_count": null,
   "metadata": {},
   "outputs": [],
   "source": [
    "import os\n",
    "import sys\n",
    "import warnings\n",
    "\n",
    "# Gen-2 Butler\n",
    "from lsst.daf.persistence import Butler\n",
    "\n",
    "\n",
    "# Filter some warnings printed bythe stack\n",
    "# warnings.simplefilter(\"ignore\", category=FutureWarning)\n",
    "# warnings.simplefilter(\"ignore\", category=UserWarning)"
   ]
  },
  {
   "cell_type": "markdown",
   "metadata": {},
   "source": [
    "## OR2 raw images\n",
    "\n",
    "Raw calibration images are stored by type; `bias`, `flat`, `dark` In these folders, there is a directory structure \n",
    "based on the date the images were acquired (or transferred/ingested?)"
   ]
  },
  {
   "cell_type": "code",
   "execution_count": null,
   "metadata": {},
   "outputs": [],
   "source": [
    "raw_datadir = '/project/shared/comCam/CALIB_n1'\n",
    "! ls $raw_datadir"
   ]
  },
  {
   "cell_type": "code",
   "execution_count": null,
   "metadata": {},
   "outputs": [],
   "source": [
    "! ls $raw_datadir'/bias/2020-07-27/'"
   ]
  },
  {
   "cell_type": "markdown",
   "metadata": {},
   "source": [
    "## OR2 reprocessed data products"
   ]
  },
  {
   "cell_type": "code",
   "execution_count": null,
   "metadata": {},
   "outputs": [],
   "source": [
    "from astropy.io import fits\n",
    "ORN1Datadir = '/project/shared/comCam/rerun/ops_rehearsal_n1'\n",
    "biasRawFile = fits.open(ORN1Datadir + \"/bias/2020-07-27/bias-R22-S10-det003_2020-07-27.fits\")\n",
    "#print(biasRawFile.info())\n",
    "biasRawFileHdr = biasRawFile[0].header\n",
    "#print(repr(biasRawFileHdr))\n",
    "print(biasRawFileHdr['RAFTBAY'])\n",
    "print(biasRawFileHdr['CCDSLOT'])\n",
    "print(biasRawFileHdr['CALIB_ID'])\n",
    "print(biasRawFileHdr['OBSTYPE'])\n",
    "print(biasRawFileHdr['CCDSLOT'])\n",
    "night1DataGroupId = \"CALSET_20200727_2114\""
   ]
  },
  {
   "cell_type": "code",
   "execution_count": null,
   "metadata": {},
   "outputs": [],
   "source": [
    "butler = Butler(ORN1Datadir)\n",
    "dataType = biasRawFileHdr['OBSTYPE']\n",
    "expId = '2020072700001'\n",
    "dataId = {'expId': expId, 'detector': 8}\n",
    "dataImage = butler.get(dataType, dataId=dataId)\n",
    "print(str(dataImage))"
   ]
  },
  {
   "cell_type": "code",
   "execution_count": null,
   "metadata": {},
   "outputs": [],
   "source": [
    "dataSetTypes = butler.getDatasetTypes()\n",
    "print(len(dataSetTypes))\n",
    "\n",
    "if \"flat\" in dataSetTypes:\n",
    "  print(\"Flat is dataset type!\")\n",
    "\n",
    "# Look for a given datasetType in the full set of datasetTypes\n",
    "list(dataSetTypes).index(\"dark\")"
   ]
  },
  {
   "cell_type": "code",
   "execution_count": null,
   "metadata": {},
   "outputs": [],
   "source": [
    "## Query the metadata\n",
    "datasetType = 'raw' \n",
    "frmt = ['expId'] # str/tuple of keys to be returned. Options: \n",
    "dataId = {'imageType': 'FLAT'} # dict of partial dataId\n",
    "butler.queryMetadata(datasetType, frmt, dataId=dataId)"
   ]
  },
  {
   "cell_type": "code",
   "execution_count": null,
   "metadata": {},
   "outputs": [],
   "source": [
    "butler.getKeys('flat')"
   ]
  },
  {
   "cell_type": "code",
   "execution_count": null,
   "metadata": {},
   "outputs": [],
   "source": [
    "## Use the buter to find out what dataIds are available for the various calibration dataset types\n",
    "flats = butler.queryMetadata('raw', ['visit', 'detector', 'expId'], dataId={'imageType': 'FLAT'})\n",
    "print((flats))\n",
    "darks = butler.queryMetadata('raw', ['expId'], dataId={'imageType': 'DARK'})\n",
    "print(len(darks))\n",
    "biases = butler.queryMetadata('raw', ['expId'], dataId={'imageType': 'BIAS'})\n",
    "print(len(biases))"
   ]
  },
  {
   "cell_type": "code",
   "execution_count": null,
   "metadata": {},
   "outputs": [],
   "source": [
    "biases = butler.queryMetadata('bias', ['filter'], dataId={'expId': 2020072700023, 'detector': 1})\n",
    "print(biases)"
   ]
  },
  {
   "cell_type": "code",
   "execution_count": null,
   "metadata": {},
   "outputs": [],
   "source": [
    "## Use the buter to find out what dataIds are available for the 'bias' dataset type\n",
    "biases = butler.queryMetadata('raw', ['detector'], dataId=dataId)\n",
    "type(biases)"
   ]
  },
  {
   "cell_type": "code",
   "execution_count": null,
   "metadata": {},
   "outputs": [],
   "source": [
    "# Plot images for a given exposure id: 2020072400020\n",
    "import numpy as np\n",
    "dataType = 'bias'\n",
    "iCcd  = 3\n",
    "expId = 2020072400020\n",
    "dataId = {'expId': expId, 'detector': iCcd}\n",
    "dataImage = butler.get(dataType, dataId=dataId)\n",
    "imageArr = dataImage.maskedImage.image.array\n",
    "varianceArr = dataImage.maskedImage.variance.array\n",
    "\n",
    "vmin = np.percentile(arr[np.where(np.isfinite(arr))], 2)\n",
    "vmax = np.percentile(arr[np.where(np.isfinite(arr))], 98)"
   ]
  },
  {
   "cell_type": "code",
   "execution_count": null,
   "metadata": {},
   "outputs": [],
   "source": [
    "from bokeh.io import output_notebook, show\n",
    "from bokeh.plotting import figure\n",
    "from bokeh.resources import INLINE"
   ]
  },
  {
   "cell_type": "code",
   "execution_count": null,
   "metadata": {},
   "outputs": [],
   "source": [
    "output_notebook(resources=INLINE)"
   ]
  },
  {
   "cell_type": "code",
   "execution_count": null,
   "metadata": {},
   "outputs": [],
   "source": [
    "from bokeh.charts import HeatMap\n"
   ]
  },
  {
   "cell_type": "code",
   "execution_count": null,
   "metadata": {},
   "outputs": [],
   "source": [
    "p = figure(x_range=(0,4000), y_range=(0,4000))\n",
    "p.image(image=[imageArr], x=0, y=0, dw=vmax, dh=vmax, palette=\"Viridis256\", level=\"image\")\n",
    "show(p)"
   ]
  },
  {
   "cell_type": "code",
   "execution_count": null,
   "metadata": {},
   "outputs": [],
   "source": []
  }
 ],
 "metadata": {
  "kernelspec": {
   "display_name": "LSST",
   "language": "python",
   "name": "lsst"
  },
  "language_info": {
   "codemirror_mode": {
    "name": "ipython",
    "version": 3
   },
   "file_extension": ".py",
   "mimetype": "text/x-python",
   "name": "python",
   "nbconvert_exporter": "python",
   "pygments_lexer": "ipython3",
   "version": "3.8.8"
  }
 },
 "nbformat": 4,
 "nbformat_minor": 4
}
